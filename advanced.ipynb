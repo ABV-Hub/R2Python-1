{
  "cells": [
    {
      "cell_type": "markdown",
      "source": "# Python - Advanced Programming\n\n- Classes - [reference](https://docs.python.org/3/tutorial/classes.html)\n- Modules - [reference](https://docs.python.org/3/tutorial/modules.html)",
      "metadata": {
        "pycharm": {
          "metadata": false
        }
      },
      "execution_count": 2
    },
    {
      "cell_type": "markdown",
      "source": "## Classes - [reference](https://docs.python.org/3/tutorial/classes.html)",
      "metadata": {
        "pycharm": {
          "metadata": false
        }
      }
    },
    {
      "cell_type": "code",
      "execution_count": null,
      "outputs": [],
      "source": "class Dog:\n\n    kind \u003d \u0027canine\u0027         # class variable shared by all instances\n\n    def __init__(self, name):\n        self.name \u003d name    # instance variable unique to each instance",
      "metadata": {
        "pycharm": {
          "metadata": false,
          "name": "#%%\n"
        }
      }
    },
    {
      "cell_type": "code",
      "execution_count": null,
      "outputs": [],
      "source": "d \u003d Dog(\u0027Fido\u0027)\ne \u003d Dog(\u0027Buddy\u0027)",
      "metadata": {
        "pycharm": {
          "metadata": false,
          "name": "#%%\n"
        }
      }
    },
    {
      "cell_type": "code",
      "execution_count": null,
      "outputs": [],
      "source": "d.name # instance",
      "metadata": {
        "pycharm": {
          "metadata": false,
          "name": "#%%\n"
        }
      }
    },
    {
      "cell_type": "code",
      "execution_count": null,
      "outputs": [],
      "source": "e.kind # instance",
      "metadata": {
        "pycharm": {
          "metadata": false,
          "name": "#%%\n"
        }
      }
    },
    {
      "cell_type": "code",
      "execution_count": null,
      "outputs": [],
      "source": "class Dog:\n\n    tricks \u003d []             # mistaken use of a class variable\n\n    def __init__(self, name):\n        self.name \u003d name\n\n    def add_trick(self, trick):\n        self.tricks.append(trick)",
      "metadata": {
        "pycharm": {
          "metadata": false,
          "name": "#%%\n"
        }
      }
    },
    {
      "cell_type": "code",
      "execution_count": null,
      "outputs": [],
      "source": "d \u003d Dog(\u0027Fido\u0027)\ne \u003d Dog(\u0027Buddy\u0027)",
      "metadata": {
        "pycharm": {
          "metadata": false,
          "name": "#%%\n"
        }
      }
    },
    {
      "cell_type": "code",
      "execution_count": null,
      "outputs": [],
      "source": "d.add_trick(\u0027roll over\u0027)\ne.add_trick(\u0027play dead\u0027)\nd.tricks",
      "metadata": {
        "pycharm": {
          "metadata": false,
          "name": "#%%\n"
        }
      }
    },
    {
      "cell_type": "code",
      "execution_count": 3,
      "outputs": [],
      "source": "class Dog:\n\n    def __init__(self, name):\n        self.name \u003d name\n        self.tricks \u003d []    # creates a new empty list for each dog\n\n    def add_trick(self, trick):\n        self.tricks.append(trick)",
      "metadata": {
        "pycharm": {
          "metadata": false,
          "name": "#%%\n"
        }
      }
    },
    {
      "cell_type": "code",
      "execution_count": 4,
      "outputs": [],
      "source": "d \u003d Dog(\u0027Fido\u0027)\ne \u003d Dog(\u0027Buddy\u0027)\nd.add_trick(\u0027roll over\u0027)\ne.add_trick(\u0027play dead\u0027)",
      "metadata": {
        "pycharm": {
          "metadata": false,
          "name": "#%%\n"
        }
      }
    },
    {
      "cell_type": "code",
      "execution_count": 5,
      "outputs": [
        {
          "data": {
            "text/plain": "[\u0027roll over\u0027]"
          },
          "metadata": {},
          "output_type": "execute_result",
          "execution_count": 5
        }
      ],
      "source": "d.tricks",
      "metadata": {
        "pycharm": {
          "metadata": false,
          "name": "#%%\n"
        }
      }
    },
    {
      "cell_type": "code",
      "execution_count": 7,
      "outputs": [
        {
          "data": {
            "text/plain": "[\u0027play dead\u0027]"
          },
          "metadata": {},
          "output_type": "execute_result",
          "execution_count": 7
        }
      ],
      "source": "e.tricks",
      "metadata": {
        "pycharm": {
          "metadata": false,
          "name": "#%%\n"
        }
      }
    },
    {
      "cell_type": "markdown",
      "source": "## Modules - [reference](https://docs.python.org/3/tutorial/modules.html)\n\nA module is a file containing Python definitions and statements. \n\nThe file name is the module name with the suffix `.py` appended. \n\nWithin a module, the module’s name (as a string) is available as the value of the global variable `__name__`. \n\nFor instance, use your favorite text editor to create a file called `fibo.py in the current directory with the following contents:\n```python\n# Fibonacci numbers module\n\ndef fib2(n):   # return Fibonacci series up to n\n    result \u003d []\n    a, b \u003d 0, 1\n    while a \u003c n:\n        result.append(a)\n        a, b \u003d b, a+b\n    return result\n    \ndef fib(n):    # write Fibonacci series up to n\n    print(fib2(n))\n    \nif __name__ \u003d\u003d \"__main__\": # True when called as main \n    import sys\n    fib(int(sys.argv[1]))\n```",
      "metadata": {
        "pycharm": {
          "metadata": false,
          "name": "#%% md\n"
        }
      }
    },
    {
      "cell_type": "code",
      "execution_count": 11,
      "outputs": [],
      "source": "import fibo",
      "metadata": {
        "pycharm": {
          "metadata": false,
          "name": "#%%\n"
        }
      }
    },
    {
      "cell_type": "code",
      "execution_count": 12,
      "outputs": [
        {
          "name": "stdout",
          "text": [
            "0 1 1 2 3 5 8 13 21 34 55 89 144 233 377 610 987 \n"
          ],
          "output_type": "stream"
        }
      ],
      "source": "fibo.fib(1000)",
      "metadata": {
        "pycharm": {
          "metadata": false,
          "name": "#%%\n"
        }
      }
    },
    {
      "cell_type": "code",
      "execution_count": 13,
      "outputs": [
        {
          "data": {
            "text/plain": "[0, 1, 1, 2, 3, 5, 8, 13, 21, 34, 55, 89]"
          },
          "metadata": {},
          "output_type": "execute_result",
          "execution_count": 13
        }
      ],
      "source": "fibo.fib2(100)",
      "metadata": {
        "pycharm": {
          "metadata": false,
          "name": "#%%\n"
        }
      }
    },
    {
      "cell_type": "code",
      "execution_count": 14,
      "outputs": [
        {
          "data": {
            "text/plain": "\u0027fibo\u0027"
          },
          "metadata": {},
          "output_type": "execute_result",
          "execution_count": 14
        }
      ],
      "source": "fibo.__name__",
      "metadata": {
        "pycharm": {
          "metadata": false,
          "name": "#%%\n"
        }
      }
    },
    {
      "cell_type": "code",
      "execution_count": 15,
      "outputs": [
        {
          "name": "stdout",
          "text": [
            "0 1 1 2 3 5 8 13 21 34 55 89 144 233 377 \n"
          ],
          "output_type": "stream"
        }
      ],
      "source": "fib \u003d fibo.fib\nfib(500)",
      "metadata": {
        "pycharm": {
          "metadata": false,
          "name": "#%%\n"
        }
      }
    },
    {
      "cell_type": "code",
      "execution_count": 17,
      "outputs": [
        {
          "name": "stdout",
          "text": [
            "0 1 1 2 3 5 8 13 21 34 55 89 144 233 377 \n"
          ],
          "output_type": "stream"
        }
      ],
      "source": "import fibo as fib\nfib.fib(500)",
      "metadata": {
        "pycharm": {
          "metadata": false,
          "name": "#%%\n"
        }
      }
    },
    {
      "cell_type": "code",
      "execution_count": 2,
      "outputs": [
        {
          "name": "stdout",
          "text": [
            "[0, 1, 1, 2, 3, 5, 8, 13, 21, 34]\r\n"
          ],
          "output_type": "stream"
        }
      ],
      "source": "!python3 fibo.py 50",
      "metadata": {
        "pycharm": {
          "metadata": false,
          "name": "#%%bash\n"
        }
      }
    },
    {
      "cell_type": "code",
      "execution_count": null,
      "outputs": [],
      "source": "\n",
      "metadata": {
        "pycharm": {
          "metadata": false,
          "name": "#%%\n"
        }
      }
    }
  ],
  "metadata": {
    "kernelspec": {
      "display_name": "Python 2",
      "language": "python",
      "name": "python2"
    },
    "language_info": {
      "codemirror_mode": {
        "name": "ipython",
        "version": 2
      },
      "file_extension": ".py",
      "mimetype": "text/x-python",
      "name": "python",
      "nbconvert_exporter": "python",
      "pygments_lexer": "ipython2",
      "version": "2.7.12"
    },
    "stem_cell": {
      "cell_type": "raw",
      "source": "",
      "metadata": {
        "pycharm": {
          "metadata": false
        }
      }
    }
  },
  "nbformat": 4,
  "nbformat_minor": 2
}