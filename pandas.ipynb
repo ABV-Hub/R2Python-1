{
 "cells": [
  {
   "cell_type": "markdown",
   "metadata": {
    "pycharm": {
     "metadata": false
    }
   },
   "source": [
    "# Python - Pandas  \n",
    "\n",
    "[Pandas Reference](http://pandas.pydata.org/pandas-docs/stable/reference/index.html)"
   ]
  },
  {
   "cell_type": "markdown",
   "metadata": {
    "pycharm": {
     "metadata": false
    }
   },
   "source": [
    "## Series and DataFrames"
   ]
  },
  {
   "cell_type": "code",
   "execution_count": 1,
   "metadata": {
    "pycharm": {
     "metadata": false,
     "name": "#%%\n"
    }
   },
   "outputs": [],
   "source": [
    "import numpy as np\n",
    "import pandas as pd"
   ]
  },
  {
   "cell_type": "markdown",
   "metadata": {
    "pycharm": {
     "metadata": false
    }
   },
   "source": [
    "- Series"
   ]
  },
  {
   "cell_type": "code",
   "execution_count": 2,
   "metadata": {
    "pycharm": {
     "metadata": false,
     "name": "#%%\n"
    }
   },
   "outputs": [
    {
     "data": {
      "text/plain": [
       "0    1.0\n",
       "1    3.0\n",
       "2    5.0\n",
       "3    NaN\n",
       "4    6.0\n",
       "5    8.0\n",
       "dtype: float64"
      ]
     },
     "execution_count": 2,
     "metadata": {},
     "output_type": "execute_result"
    }
   ],
   "source": [
    "s = pd.Series([1, 3, 5, np.nan, 6, 8])\n",
    "s"
   ]
  },
  {
   "cell_type": "markdown",
   "metadata": {
    "pycharm": {
     "metadata": false
    }
   },
   "source": [
    "- DataFrames # Very similar to R dataframes"
   ]
  },
  {
   "cell_type": "code",
   "execution_count": 3,
   "metadata": {
    "pycharm": {
     "metadata": false,
     "name": "#%%\n"
    }
   },
   "outputs": [
    {
     "data": {
      "text/plain": [
       "DatetimeIndex(['2013-01-01', '2013-01-02', '2013-01-03', '2013-01-04',\n",
       "               '2013-01-05', '2013-01-06'],\n",
       "              dtype='datetime64[ns]', freq='D')"
      ]
     },
     "execution_count": 3,
     "metadata": {},
     "output_type": "execute_result"
    }
   ],
   "source": [
    "import pandas as pd\n",
    "dates = pd.date_range('20130101', periods=6) \n",
    "# R + lubridate:  dates <- ymd(\"2013-01-01\")+days(0:5)\n",
    "dates"
   ]
  },
  {
   "cell_type": "code",
   "execution_count": 4,
   "metadata": {
    "pycharm": {
     "metadata": false,
     "name": "#%%\n"
    }
   },
   "outputs": [
    {
     "data": {
      "text/html": [
       "<div>\n",
       "<style scoped>\n",
       "    .dataframe tbody tr th:only-of-type {\n",
       "        vertical-align: middle;\n",
       "    }\n",
       "\n",
       "    .dataframe tbody tr th {\n",
       "        vertical-align: top;\n",
       "    }\n",
       "\n",
       "    .dataframe thead th {\n",
       "        text-align: right;\n",
       "    }\n",
       "</style>\n",
       "<table border=\"1\" class=\"dataframe\">\n",
       "  <thead>\n",
       "    <tr style=\"text-align: right;\">\n",
       "      <th></th>\n",
       "      <th>A</th>\n",
       "      <th>B</th>\n",
       "      <th>C</th>\n",
       "      <th>D</th>\n",
       "    </tr>\n",
       "  </thead>\n",
       "  <tbody>\n",
       "    <tr>\n",
       "      <th>2013-01-01</th>\n",
       "      <td>1.588871</td>\n",
       "      <td>0.432520</td>\n",
       "      <td>-0.350392</td>\n",
       "      <td>0.811976</td>\n",
       "    </tr>\n",
       "    <tr>\n",
       "      <th>2013-01-02</th>\n",
       "      <td>-0.148908</td>\n",
       "      <td>-1.209078</td>\n",
       "      <td>0.119085</td>\n",
       "      <td>0.523345</td>\n",
       "    </tr>\n",
       "    <tr>\n",
       "      <th>2013-01-03</th>\n",
       "      <td>0.894992</td>\n",
       "      <td>0.053553</td>\n",
       "      <td>0.567586</td>\n",
       "      <td>0.712589</td>\n",
       "    </tr>\n",
       "    <tr>\n",
       "      <th>2013-01-04</th>\n",
       "      <td>0.510595</td>\n",
       "      <td>-0.409690</td>\n",
       "      <td>-0.763129</td>\n",
       "      <td>0.334096</td>\n",
       "    </tr>\n",
       "    <tr>\n",
       "      <th>2013-01-05</th>\n",
       "      <td>0.714882</td>\n",
       "      <td>-0.368995</td>\n",
       "      <td>-0.816042</td>\n",
       "      <td>-0.451742</td>\n",
       "    </tr>\n",
       "    <tr>\n",
       "      <th>2013-01-06</th>\n",
       "      <td>-1.375754</td>\n",
       "      <td>1.128288</td>\n",
       "      <td>0.903103</td>\n",
       "      <td>-1.350488</td>\n",
       "    </tr>\n",
       "  </tbody>\n",
       "</table>\n",
       "</div>"
      ],
      "text/plain": [
       "                   A         B         C         D\n",
       "2013-01-01  1.588871  0.432520 -0.350392  0.811976\n",
       "2013-01-02 -0.148908 -1.209078  0.119085  0.523345\n",
       "2013-01-03  0.894992  0.053553  0.567586  0.712589\n",
       "2013-01-04  0.510595 -0.409690 -0.763129  0.334096\n",
       "2013-01-05  0.714882 -0.368995 -0.816042 -0.451742\n",
       "2013-01-06 -1.375754  1.128288  0.903103 -1.350488"
      ]
     },
     "execution_count": 4,
     "metadata": {},
     "output_type": "execute_result"
    }
   ],
   "source": [
    "df = pd.DataFrame(np.random.randn(6, 4), index=dates, columns=list('ABCD'))\n",
    "# R + tidyverse: \n",
    "# m <- matrix(rnorm(6*4), ncol = 4)\n",
    "# colnames(m) <- c(\"A\", \"B\", \"C\", \"D\")\n",
    "# df <- as_tibble(m) %>% mutate(dates)\n",
    "df"
   ]
  },
  {
   "cell_type": "markdown",
   "metadata": {
    "pycharm": {
     "metadata": false
    }
   },
   "source": [
    "## Pandas vs. R"
   ]
  },
  {
   "cell_type": "code",
   "execution_count": 5,
   "metadata": {
    "pycharm": {
     "metadata": false,
     "name": "#%%\n"
    }
   },
   "outputs": [
    {
     "data": {
      "text/plain": [
       "(6, 4)"
      ]
     },
     "execution_count": 5,
     "metadata": {},
     "output_type": "execute_result"
    }
   ],
   "source": [
    "df.shape # R: dim(df)"
   ]
  },
  {
   "cell_type": "code",
   "execution_count": 6,
   "metadata": {
    "pycharm": {
     "metadata": false,
     "name": "#%%\n"
    }
   },
   "outputs": [
    {
     "data": {
      "text/html": [
       "<div>\n",
       "<style scoped>\n",
       "    .dataframe tbody tr th:only-of-type {\n",
       "        vertical-align: middle;\n",
       "    }\n",
       "\n",
       "    .dataframe tbody tr th {\n",
       "        vertical-align: top;\n",
       "    }\n",
       "\n",
       "    .dataframe thead th {\n",
       "        text-align: right;\n",
       "    }\n",
       "</style>\n",
       "<table border=\"1\" class=\"dataframe\">\n",
       "  <thead>\n",
       "    <tr style=\"text-align: right;\">\n",
       "      <th></th>\n",
       "      <th>A</th>\n",
       "      <th>B</th>\n",
       "      <th>C</th>\n",
       "      <th>D</th>\n",
       "    </tr>\n",
       "  </thead>\n",
       "  <tbody>\n",
       "    <tr>\n",
       "      <th>2013-01-01</th>\n",
       "      <td>1.588871</td>\n",
       "      <td>0.432520</td>\n",
       "      <td>-0.350392</td>\n",
       "      <td>0.811976</td>\n",
       "    </tr>\n",
       "    <tr>\n",
       "      <th>2013-01-02</th>\n",
       "      <td>-0.148908</td>\n",
       "      <td>-1.209078</td>\n",
       "      <td>0.119085</td>\n",
       "      <td>0.523345</td>\n",
       "    </tr>\n",
       "    <tr>\n",
       "      <th>2013-01-03</th>\n",
       "      <td>0.894992</td>\n",
       "      <td>0.053553</td>\n",
       "      <td>0.567586</td>\n",
       "      <td>0.712589</td>\n",
       "    </tr>\n",
       "  </tbody>\n",
       "</table>\n",
       "</div>"
      ],
      "text/plain": [
       "                   A         B         C         D\n",
       "2013-01-01  1.588871  0.432520 -0.350392  0.811976\n",
       "2013-01-02 -0.148908 -1.209078  0.119085  0.523345\n",
       "2013-01-03  0.894992  0.053553  0.567586  0.712589"
      ]
     },
     "execution_count": 6,
     "metadata": {},
     "output_type": "execute_result"
    }
   ],
   "source": [
    "df.head(3) # R: head(df, 3)"
   ]
  },
  {
   "cell_type": "code",
   "execution_count": 7,
   "metadata": {
    "pycharm": {
     "metadata": false,
     "name": "#%%\n"
    }
   },
   "outputs": [
    {
     "data": {
      "text/plain": [
       "A    0.364113\n",
       "B   -0.062234\n",
       "C   -0.056632\n",
       "D    0.096629\n",
       "dtype: float64"
      ]
     },
     "execution_count": 7,
     "metadata": {},
     "output_type": "execute_result"
    }
   ],
   "source": [
    "df.mean()\n",
    "# R + tidyverse: df %>% select_if(is.numeric) %>% map_dbl(mean, na.rm = TRUE)"
   ]
  },
  {
   "cell_type": "code",
   "execution_count": 8,
   "metadata": {
    "pycharm": {
     "metadata": false,
     "name": "#%%\n"
    }
   },
   "outputs": [
    {
     "data": {
      "image/png": "[encoded data removed]",
      "text/plain": [
       "<Figure size 540x540 with 12 Axes>"
      ]
     },
     "metadata": {
      "needs_background": "light"
     },
     "output_type": "display_data"
    }
   ],
   "source": [
    "%matplotlib inline\n",
    "import seaborn as sns\n",
    "import matplotlib.pyplot as plt\n",
    "sns.pairplot(df[[\"A\", \"B\", \"C\"]])\n",
    "plt.show()\n",
    "# R + GGally: df %>% select(A, B, C) %>% ggpairs()"
   ]
  },
  {
   "cell_type": "markdown",
   "metadata": {
    "pycharm": {
     "metadata": false
    }
   },
   "source": [
    "## Pandas vs. Tidyr\n",
    "\n",
    "| **pandas** | **tidyr** |\n",
    "| :---: | :---: |\n",
    "| melt |\tgather |\n",
    "| pivot |\tspread |\n",
    "\n",
    "## Pandas vs. Dplyr\n",
    "| **pandas** | **dplyr** |\n",
    "| :---: | :---: |\n",
    "| assign |\tmutate |\n",
    "| filter |\tselect |\n",
    "| rename |\trename |\n",
    "| query |\tfilter |\n",
    "| sort_values |\tarrange |\n",
    "| groupby |\tgroup_by |\n",
    "| agg |\tsummarize\n"
   ]
  },
  {
   "cell_type": "markdown",
   "metadata": {
    "pycharm": {
     "metadata": false
    }
   },
   "source": [
    "## Panda read data from Kaggle by using Kaggle's API\n",
    "[GitHub reference](https://github.com/kaggle/kaggle-api)\n",
    "\n",
    "It is required the package `kaggle`\n",
    "        #%%bash\n",
    "        pip install kaggle --upgrade"
   ]
  },
  {
   "cell_type": "markdown",
   "metadata": {
    "pycharm": {
     "metadata": false
    }
   },
   "source": [
    "Then it is required to **'Create API Token'** from the \n",
    "Kraggle Account.\n",
    "\n",
    "This will trigger the download of `kaggle.json`, \n",
    "a file containing your API credentials. \n",
    "\n",
    "Place this file in the location `~/.kaggle/kaggle.json`"
   ]
  },
  {
   "cell_type": "code",
   "execution_count": 37,
   "metadata": {
    "pycharm": {
     "metadata": false,
     "name": "#%%\n"
    }
   },
   "outputs": [],
   "source": [
    "import kaggle\n",
    "import pandas as pd\n",
    "kaggle.api.authenticate()\n",
    "kaggle.api.dataset_download_files('toramky/automobile-dataset', unzip=True)\n",
    "car_data = pd.read_csv(\"Automobile_data.csv\")"
   ]
  },
  {
   "cell_type": "markdown",
   "metadata": {
    "pycharm": {
     "metadata": false
    }
   },
   "source": [
    "## Panda read data from url "
   ]
  },
  {
   "cell_type": "code",
   "execution_count": 38,
   "metadata": {
    "pycharm": {
     "metadata": false,
     "name": "#%%\n"
    }
   },
   "outputs": [],
   "source": [
    "import pandas as pd\n",
    "df=pd.read_csv(\"https://corgis-edu.github.io/corgis/datasets/csv/cars/cars.csv\")"
   ]
  },
  {
   "cell_type": "markdown",
   "metadata": {
    "pycharm": {
     "metadata": false
    }
   },
   "source": [
    "we start by visualizing the variables, the number of observations and some of them"
   ]
  },
  {
   "cell_type": "code",
   "execution_count": 39,
   "metadata": {
    "pycharm": {
     "metadata": false,
     "name": "#%% \n"
    }
   },
   "outputs": [
    {
     "data": {
      "text/html": [
       "<div>Number of observation: <font style=\"color: blue;\">5076</span></font>"
      ],
      "text/plain": [
       "<IPython.core.display.HTML object>"
      ]
     },
     "metadata": {},
     "output_type": "display_data"
    },
    {
     "data": {
      "text/html": [
       "<div>\n",
       "<style scoped>\n",
       "    .dataframe tbody tr th:only-of-type {\n",
       "        vertical-align: middle;\n",
       "    }\n",
       "\n",
       "    .dataframe tbody tr th {\n",
       "        vertical-align: top;\n",
       "    }\n",
       "\n",
       "    .dataframe thead th {\n",
       "        text-align: right;\n",
       "    }\n",
       "</style>\n",
       "<table border=\"1\" class=\"dataframe\">\n",
       "  <thead>\n",
       "    <tr style=\"text-align: right;\">\n",
       "      <th></th>\n",
       "      <th>Dimensions.Height</th>\n",
       "      <th>Dimensions.Length</th>\n",
       "      <th>Dimensions.Width</th>\n",
       "      <th>Engine Information.Driveline</th>\n",
       "      <th>Engine Information.Engine Type</th>\n",
       "      <th>Engine Information.Hybrid</th>\n",
       "      <th>Engine Information.Number of Forward Gears</th>\n",
       "      <th>Engine Information.Transmission</th>\n",
       "      <th>Fuel Information.City mpg</th>\n",
       "      <th>Fuel Information.Fuel Type</th>\n",
       "      <th>Fuel Information.Highway mpg</th>\n",
       "      <th>Identification.Classification</th>\n",
       "      <th>Identification.ID</th>\n",
       "      <th>Identification.Make</th>\n",
       "      <th>Identification.Model Year</th>\n",
       "      <th>Identification.Year</th>\n",
       "      <th>Engine Information.Engine Statistics.Horsepower</th>\n",
       "      <th>Engine Information.Engine Statistics.Torque</th>\n",
       "    </tr>\n",
       "  </thead>\n",
       "  <tbody>\n",
       "    <tr>\n",
       "      <th>0</th>\n",
       "      <td>140</td>\n",
       "      <td>143</td>\n",
       "      <td>202</td>\n",
       "      <td>All-wheel drive</td>\n",
       "      <td>Audi 3.2L 6 cylinder 250hp 236ft-lbs</td>\n",
       "      <td>True</td>\n",
       "      <td>6</td>\n",
       "      <td>6 Speed Automatic Select Shift</td>\n",
       "      <td>18</td>\n",
       "      <td>Gasoline</td>\n",
       "      <td>25</td>\n",
       "      <td>Automatic transmission</td>\n",
       "      <td>2009 Audi A3 3.2</td>\n",
       "      <td>Audi</td>\n",
       "      <td>2009 Audi A3</td>\n",
       "      <td>2009</td>\n",
       "      <td>250</td>\n",
       "      <td>236</td>\n",
       "    </tr>\n",
       "    <tr>\n",
       "      <th>1</th>\n",
       "      <td>140</td>\n",
       "      <td>143</td>\n",
       "      <td>202</td>\n",
       "      <td>Front-wheel drive</td>\n",
       "      <td>Audi 2.0L 4 cylinder 200 hp 207 ft-lbs Turbo</td>\n",
       "      <td>True</td>\n",
       "      <td>6</td>\n",
       "      <td>6 Speed Automatic Select Shift</td>\n",
       "      <td>22</td>\n",
       "      <td>Gasoline</td>\n",
       "      <td>28</td>\n",
       "      <td>Automatic transmission</td>\n",
       "      <td>2009 Audi A3 2.0 T AT</td>\n",
       "      <td>Audi</td>\n",
       "      <td>2009 Audi A3</td>\n",
       "      <td>2009</td>\n",
       "      <td>200</td>\n",
       "      <td>207</td>\n",
       "    </tr>\n",
       "  </tbody>\n",
       "</table>\n",
       "</div>"
      ],
      "text/plain": [
       "   Dimensions.Height  Dimensions.Length  Dimensions.Width  \\\n",
       "0                140                143               202   \n",
       "1                140                143               202   \n",
       "\n",
       "  Engine Information.Driveline                Engine Information.Engine Type  \\\n",
       "0              All-wheel drive          Audi 3.2L 6 cylinder 250hp 236ft-lbs   \n",
       "1            Front-wheel drive  Audi 2.0L 4 cylinder 200 hp 207 ft-lbs Turbo   \n",
       "\n",
       "   Engine Information.Hybrid  Engine Information.Number of Forward Gears  \\\n",
       "0                       True                                           6   \n",
       "1                       True                                           6   \n",
       "\n",
       "  Engine Information.Transmission  Fuel Information.City mpg  \\\n",
       "0  6 Speed Automatic Select Shift                         18   \n",
       "1  6 Speed Automatic Select Shift                         22   \n",
       "\n",
       "  Fuel Information.Fuel Type  Fuel Information.Highway mpg  \\\n",
       "0                   Gasoline                            25   \n",
       "1                   Gasoline                            28   \n",
       "\n",
       "  Identification.Classification      Identification.ID Identification.Make  \\\n",
       "0        Automatic transmission       2009 Audi A3 3.2                Audi   \n",
       "1        Automatic transmission  2009 Audi A3 2.0 T AT                Audi   \n",
       "\n",
       "  Identification.Model Year  Identification.Year  \\\n",
       "0              2009 Audi A3                 2009   \n",
       "1              2009 Audi A3                 2009   \n",
       "\n",
       "   Engine Information.Engine Statistics.Horsepower  \\\n",
       "0                                              250   \n",
       "1                                              200   \n",
       "\n",
       "   Engine Information.Engine Statistics.Torque  \n",
       "0                                          236  \n",
       "1                                          207  "
      ]
     },
     "execution_count": 39,
     "metadata": {},
     "output_type": "execute_result"
    }
   ],
   "source": [
    "from IPython.core.display import display, HTML\n",
    "\n",
    "# print(df.columns)\n",
    "display(HTML('<div>Number of observation: <font style=\"color: blue;\">%d</span></font>' % len(df)))\n",
    "df.head(2)"
   ]
  },
  {
   "cell_type": "code",
   "execution_count": 40,
   "metadata": {
    "pycharm": {
     "metadata": false,
     "name": "#%%\n"
    }
   },
   "outputs": [
    {
     "data": {
      "text/plain": [
       "array(['2009 Audi A3', '2009 Audi A5', '2009 Audi Q7',\n",
       "       '2009 Audi A4 Sedan', '2012 Acura TL'], dtype=object)"
      ]
     },
     "execution_count": 40,
     "metadata": {},
     "output_type": "execute_result"
    }
   ],
   "source": [
    "df['Identification.Model Year'].unique()[:5]"
   ]
  },
  {
   "cell_type": "markdown",
   "metadata": {
    "pycharm": {
     "metadata": false
    }
   },
   "source": [
    "Let us define a function to extract the _car model_ from the column `Identification.Model Year`"
   ]
  },
  {
   "cell_type": "code",
   "execution_count": 42,
   "metadata": {
    "pycharm": {
     "metadata": false,
     "name": "#%%\n"
    }
   },
   "outputs": [],
   "source": [
    "def reduce_model_year(my,y):\n",
    "    return my.replace(str(y),'');"
   ]
  },
  {
   "cell_type": "markdown",
   "metadata": {
    "pycharm": {
     "metadata": false
    }
   },
   "source": [
    "The we use the `DataFrame` method `apply` to crate the new column `model`"
   ]
  },
  {
   "cell_type": "code",
   "execution_count": 44,
   "metadata": {
    "pycharm": {
     "metadata": false,
     "name": "#%%\n"
    }
   },
   "outputs": [
    {
     "data": {
      "text/html": [
       "<div>\n",
       "<style scoped>\n",
       "    .dataframe tbody tr th:only-of-type {\n",
       "        vertical-align: middle;\n",
       "    }\n",
       "\n",
       "    .dataframe tbody tr th {\n",
       "        vertical-align: top;\n",
       "    }\n",
       "\n",
       "    .dataframe thead th {\n",
       "        text-align: right;\n",
       "    }\n",
       "</style>\n",
       "<table border=\"1\" class=\"dataframe\">\n",
       "  <thead>\n",
       "    <tr style=\"text-align: right;\">\n",
       "      <th></th>\n",
       "      <th>Identification.Model Year</th>\n",
       "      <th>model</th>\n",
       "    </tr>\n",
       "  </thead>\n",
       "  <tbody>\n",
       "    <tr>\n",
       "      <th>0</th>\n",
       "      <td>2009 Audi A3</td>\n",
       "      <td>Audi A3</td>\n",
       "    </tr>\n",
       "    <tr>\n",
       "      <th>1</th>\n",
       "      <td>2009 Audi A3</td>\n",
       "      <td>Audi A3</td>\n",
       "    </tr>\n",
       "    <tr>\n",
       "      <th>2</th>\n",
       "      <td>2009 Audi A3</td>\n",
       "      <td>Audi A3</td>\n",
       "    </tr>\n",
       "  </tbody>\n",
       "</table>\n",
       "</div>"
      ],
      "text/plain": [
       "  Identification.Model Year     model\n",
       "0              2009 Audi A3   Audi A3\n",
       "1              2009 Audi A3   Audi A3\n",
       "2              2009 Audi A3   Audi A3"
      ]
     },
     "execution_count": 44,
     "metadata": {},
     "output_type": "execute_result"
    }
   ],
   "source": [
    "if 'model' in df.columns:       # if the column `model` has been created before\n",
    "    df.drop('model', axis=1)    # drop it\n",
    "df['model'] = df.apply(lambda x: reduce_model_year(x['Identification.Model Year'], x['Identification.Year']), axis=1)\n",
    "df.filter(items=['Identification.Model Year', 'model']).head(3)"
   ]
  },
  {
   "cell_type": "markdown",
   "metadata": {
    "pycharm": {
     "metadata": false
    }
   },
   "source": [
    "An alternative way to make this would be by using the `assign` method together with the `numpy.vectorize`\n",
    "function that is used to vectoring the function `reduce_model_year`"
   ]
  },
  {
   "cell_type": "code",
   "execution_count": 45,
   "metadata": {
    "pycharm": {
     "metadata": false,
     "name": "#%%\n"
    }
   },
   "outputs": [
    {
     "data": {
      "text/html": [
       "<div>\n",
       "<style scoped>\n",
       "    .dataframe tbody tr th:only-of-type {\n",
       "        vertical-align: middle;\n",
       "    }\n",
       "\n",
       "    .dataframe tbody tr th {\n",
       "        vertical-align: top;\n",
       "    }\n",
       "\n",
       "    .dataframe thead th {\n",
       "        text-align: right;\n",
       "    }\n",
       "</style>\n",
       "<table border=\"1\" class=\"dataframe\">\n",
       "  <thead>\n",
       "    <tr style=\"text-align: right;\">\n",
       "      <th></th>\n",
       "      <th>Identification.Model Year</th>\n",
       "      <th>model</th>\n",
       "    </tr>\n",
       "  </thead>\n",
       "  <tbody>\n",
       "    <tr>\n",
       "      <th>0</th>\n",
       "      <td>2009 Audi A3</td>\n",
       "      <td>Audi A3</td>\n",
       "    </tr>\n",
       "    <tr>\n",
       "      <th>1</th>\n",
       "      <td>2009 Audi A3</td>\n",
       "      <td>Audi A3</td>\n",
       "    </tr>\n",
       "    <tr>\n",
       "      <th>2</th>\n",
       "      <td>2009 Audi A3</td>\n",
       "      <td>Audi A3</td>\n",
       "    </tr>\n",
       "  </tbody>\n",
       "</table>\n",
       "</div>"
      ],
      "text/plain": [
       "  Identification.Model Year     model\n",
       "0              2009 Audi A3   Audi A3\n",
       "1              2009 Audi A3   Audi A3\n",
       "2              2009 Audi A3   Audi A3"
      ]
     },
     "execution_count": 45,
     "metadata": {},
     "output_type": "execute_result"
    }
   ],
   "source": [
    "import numpy as np\n",
    "if 'model' in df.columns:       # if the column `model` has been created before\n",
    "    df.drop('model', axis=1)    # drop it\n",
    "df = df.assign(model=lambda x: np.vectorize(reduce_model_year)(x['Identification.Model Year'], x['Identification.Year']), axis=1)\n",
    "df[['Identification.Model Year', 'model']].head(3) # other way to make a filter"
   ]
  },
  {
   "cell_type": "markdown",
   "metadata": {
    "pycharm": {
     "metadata": false
    }
   },
   "source": [
    "Let us count the number of lines containing `NaNs`value"
   ]
  },
  {
   "cell_type": "code",
   "execution_count": 46,
   "metadata": {
    "pycharm": {
     "metadata": false,
     "name": "#%%\n"
    }
   },
   "outputs": [
    {
     "data": {
      "text/plain": [
       "Dimensions.Height                                  0\n",
       "Dimensions.Length                                  0\n",
       "Dimensions.Width                                   0\n",
       "Engine Information.Driveline                       0\n",
       "Engine Information.Engine Type                     0\n",
       "Engine Information.Hybrid                          0\n",
       "Engine Information.Number of Forward Gears         0\n",
       "Engine Information.Transmission                    0\n",
       "Fuel Information.City mpg                          0\n",
       "Fuel Information.Fuel Type                         0\n",
       "Fuel Information.Highway mpg                       0\n",
       "Identification.Classification                      0\n",
       "Identification.ID                                  0\n",
       "Identification.Make                                0\n",
       "Identification.Model Year                          0\n",
       "Identification.Year                                0\n",
       "Engine Information.Engine Statistics.Horsepower    0\n",
       "Engine Information.Engine Statistics.Torque        0\n",
       "model                                              0\n",
       "axis                                               0\n",
       "dtype: int64"
      ]
     },
     "execution_count": 46,
     "metadata": {},
     "output_type": "execute_result"
    }
   ],
   "source": [
    "len(df) - df.count()"
   ]
  },
  {
   "cell_type": "markdown",
   "metadata": {
    "pycharm": {
     "metadata": false
    }
   },
   "source": [
    "### Using Group-by’s and Merges"
   ]
  },
  {
   "cell_type": "code",
   "execution_count": 47,
   "metadata": {
    "pycharm": {
     "metadata": false,
     "name": "#%%\n"
    }
   },
   "outputs": [],
   "source": [
    "group_by_model = df.groupby(by= df['model'])"
   ]
  },
  {
   "cell_type": "code",
   "execution_count": 49,
   "metadata": {
    "pycharm": {
     "metadata": false,
     "name": "#%%\n"
    }
   },
   "outputs": [
    {
     "data": {
      "text/html": [
       "<div>\n",
       "<style scoped>\n",
       "    .dataframe tbody tr th:only-of-type {\n",
       "        vertical-align: middle;\n",
       "    }\n",
       "\n",
       "    .dataframe tbody tr th {\n",
       "        vertical-align: top;\n",
       "    }\n",
       "\n",
       "    .dataframe thead th {\n",
       "        text-align: right;\n",
       "    }\n",
       "</style>\n",
       "<table border=\"1\" class=\"dataframe\">\n",
       "  <thead>\n",
       "    <tr style=\"text-align: right;\">\n",
       "      <th></th>\n",
       "      <th>Count</th>\n",
       "      <th>Identification.Model Year</th>\n",
       "    </tr>\n",
       "    <tr>\n",
       "      <th>model</th>\n",
       "      <th></th>\n",
       "      <th></th>\n",
       "    </tr>\n",
       "  </thead>\n",
       "  <tbody>\n",
       "    <tr>\n",
       "      <th>Volkswagen Routan</th>\n",
       "      <td>4</td>\n",
       "      <td>2010  Volkswagen Routan</td>\n",
       "    </tr>\n",
       "    <tr>\n",
       "      <th>Acura MDX</th>\n",
       "      <td>3</td>\n",
       "      <td>2010 Acura MDX</td>\n",
       "    </tr>\n",
       "    <tr>\n",
       "      <th>Acura RDX</th>\n",
       "      <td>4</td>\n",
       "      <td>2010 Acura RDX</td>\n",
       "    </tr>\n",
       "    <tr>\n",
       "      <th>Acura RL</th>\n",
       "      <td>3</td>\n",
       "      <td>2010 Acura RL</td>\n",
       "    </tr>\n",
       "    <tr>\n",
       "      <th>Acura TL</th>\n",
       "      <td>8</td>\n",
       "      <td>2012 Acura TL</td>\n",
       "    </tr>\n",
       "  </tbody>\n",
       "</table>\n",
       "</div>"
      ],
      "text/plain": [
       "                     Count Identification.Model Year\n",
       "model                                               \n",
       "  Volkswagen Routan      4   2010  Volkswagen Routan\n",
       " Acura MDX               3            2010 Acura MDX\n",
       " Acura RDX               4            2010 Acura RDX\n",
       " Acura RL                3             2010 Acura RL\n",
       " Acura TL                8             2012 Acura TL"
      ]
     },
     "execution_count": 49,
     "metadata": {},
     "output_type": "execute_result"
    }
   ],
   "source": [
    "df_count = (group_by_model \n",
    " .agg({'Identification.ID':'count', 'Identification.Model Year':'first'})\n",
    " .rename(columns={'Identification.ID':'Count'}))\n",
    "df_count.head()"
   ]
  },
  {
   "cell_type": "code",
   "execution_count": 50,
   "metadata": {
    "pycharm": {
     "metadata": false,
     "name": "#%%\n"
    }
   },
   "outputs": [
    {
     "data": {
      "text/html": [
       "<div>\n",
       "<style scoped>\n",
       "    .dataframe tbody tr th:only-of-type {\n",
       "        vertical-align: middle;\n",
       "    }\n",
       "\n",
       "    .dataframe tbody tr th {\n",
       "        vertical-align: top;\n",
       "    }\n",
       "\n",
       "    .dataframe thead th {\n",
       "        text-align: right;\n",
       "    }\n",
       "</style>\n",
       "<table border=\"1\" class=\"dataframe\">\n",
       "  <thead>\n",
       "    <tr style=\"text-align: right;\">\n",
       "      <th></th>\n",
       "      <th>Dimensions.Height</th>\n",
       "      <th>Dimensions.Length</th>\n",
       "      <th>Dimensions.Width</th>\n",
       "      <th>Engine Information.Hybrid</th>\n",
       "      <th>Engine Information.Number of Forward Gears</th>\n",
       "      <th>Fuel Information.City mpg</th>\n",
       "      <th>Fuel Information.Highway mpg</th>\n",
       "      <th>Identification.Year</th>\n",
       "      <th>Engine Information.Engine Statistics.Horsepower</th>\n",
       "      <th>Engine Information.Engine Statistics.Torque</th>\n",
       "      <th>axis</th>\n",
       "    </tr>\n",
       "    <tr>\n",
       "      <th>model</th>\n",
       "      <th></th>\n",
       "      <th></th>\n",
       "      <th></th>\n",
       "      <th></th>\n",
       "      <th></th>\n",
       "      <th></th>\n",
       "      <th></th>\n",
       "      <th></th>\n",
       "      <th></th>\n",
       "      <th></th>\n",
       "      <th></th>\n",
       "    </tr>\n",
       "  </thead>\n",
       "  <tbody>\n",
       "    <tr>\n",
       "      <th>Volkswagen Routan</th>\n",
       "      <td>214.0</td>\n",
       "      <td>19.0</td>\n",
       "      <td>161.00</td>\n",
       "      <td>True</td>\n",
       "      <td>6.000000</td>\n",
       "      <td>16.500000</td>\n",
       "      <td>24.000000</td>\n",
       "      <td>2010.000</td>\n",
       "      <td>224.000</td>\n",
       "      <td>244.500</td>\n",
       "      <td>1.0</td>\n",
       "    </tr>\n",
       "    <tr>\n",
       "      <th>Acura MDX</th>\n",
       "      <td>197.0</td>\n",
       "      <td>3.0</td>\n",
       "      <td>202.00</td>\n",
       "      <td>True</td>\n",
       "      <td>6.000000</td>\n",
       "      <td>16.000000</td>\n",
       "      <td>21.000000</td>\n",
       "      <td>2011.000</td>\n",
       "      <td>300.000</td>\n",
       "      <td>270.000</td>\n",
       "      <td>1.0</td>\n",
       "    </tr>\n",
       "    <tr>\n",
       "      <th>Acura RDX</th>\n",
       "      <td>119.0</td>\n",
       "      <td>27.0</td>\n",
       "      <td>78.00</td>\n",
       "      <td>True</td>\n",
       "      <td>5.000000</td>\n",
       "      <td>18.000000</td>\n",
       "      <td>23.000000</td>\n",
       "      <td>2010.500</td>\n",
       "      <td>240.000</td>\n",
       "      <td>260.000</td>\n",
       "      <td>1.0</td>\n",
       "    </tr>\n",
       "    <tr>\n",
       "      <th>Acura RL</th>\n",
       "      <td>175.0</td>\n",
       "      <td>109.0</td>\n",
       "      <td>55.00</td>\n",
       "      <td>True</td>\n",
       "      <td>5.666667</td>\n",
       "      <td>16.666667</td>\n",
       "      <td>23.333333</td>\n",
       "      <td>2011.000</td>\n",
       "      <td>300.000</td>\n",
       "      <td>271.000</td>\n",
       "      <td>1.0</td>\n",
       "    </tr>\n",
       "    <tr>\n",
       "      <th>Acura TL</th>\n",
       "      <td>172.0</td>\n",
       "      <td>91.5</td>\n",
       "      <td>87.75</td>\n",
       "      <td>True</td>\n",
       "      <td>5.500000</td>\n",
       "      <td>17.750000</td>\n",
       "      <td>25.875000</td>\n",
       "      <td>2010.875</td>\n",
       "      <td>295.625</td>\n",
       "      <td>265.875</td>\n",
       "      <td>1.0</td>\n",
       "    </tr>\n",
       "  </tbody>\n",
       "</table>\n",
       "</div>"
      ],
      "text/plain": [
       "                     Dimensions.Height  Dimensions.Length  Dimensions.Width  \\\n",
       "model                                                                         \n",
       "  Volkswagen Routan              214.0               19.0            161.00   \n",
       " Acura MDX                       197.0                3.0            202.00   \n",
       " Acura RDX                       119.0               27.0             78.00   \n",
       " Acura RL                        175.0              109.0             55.00   \n",
       " Acura TL                        172.0               91.5             87.75   \n",
       "\n",
       "                     Engine Information.Hybrid  \\\n",
       "model                                            \n",
       "  Volkswagen Routan                       True   \n",
       " Acura MDX                                True   \n",
       " Acura RDX                                True   \n",
       " Acura RL                                 True   \n",
       " Acura TL                                 True   \n",
       "\n",
       "                     Engine Information.Number of Forward Gears  \\\n",
       "model                                                             \n",
       "  Volkswagen Routan                                    6.000000   \n",
       " Acura MDX                                             6.000000   \n",
       " Acura RDX                                             5.000000   \n",
       " Acura RL                                              5.666667   \n",
       " Acura TL                                              5.500000   \n",
       "\n",
       "                     Fuel Information.City mpg  Fuel Information.Highway mpg  \\\n",
       "model                                                                          \n",
       "  Volkswagen Routan                  16.500000                     24.000000   \n",
       " Acura MDX                           16.000000                     21.000000   \n",
       " Acura RDX                           18.000000                     23.000000   \n",
       " Acura RL                            16.666667                     23.333333   \n",
       " Acura TL                            17.750000                     25.875000   \n",
       "\n",
       "                     Identification.Year  \\\n",
       "model                                      \n",
       "  Volkswagen Routan             2010.000   \n",
       " Acura MDX                      2011.000   \n",
       " Acura RDX                      2010.500   \n",
       " Acura RL                       2011.000   \n",
       " Acura TL                       2010.875   \n",
       "\n",
       "                     Engine Information.Engine Statistics.Horsepower  \\\n",
       "model                                                                  \n",
       "  Volkswagen Routan                                          224.000   \n",
       " Acura MDX                                                   300.000   \n",
       " Acura RDX                                                   240.000   \n",
       " Acura RL                                                    300.000   \n",
       " Acura TL                                                    295.625   \n",
       "\n",
       "                     Engine Information.Engine Statistics.Torque  axis  \n",
       "model                                                                   \n",
       "  Volkswagen Routan                                      244.500   1.0  \n",
       " Acura MDX                                               270.000   1.0  \n",
       " Acura RDX                                               260.000   1.0  \n",
       " Acura RL                                                271.000   1.0  \n",
       " Acura TL                                                265.875   1.0  "
      ]
     },
     "execution_count": 50,
     "metadata": {},
     "output_type": "execute_result"
    }
   ],
   "source": [
    "df_mean = group_by_model.mean()\n",
    "df_mean.head()"
   ]
  },
  {
   "cell_type": "code",
   "execution_count": 51,
   "metadata": {
    "pycharm": {
     "metadata": false,
     "name": "#%%\n"
    }
   },
   "outputs": [],
   "source": [
    "df_merge = df_mean.merge(df_count, left_index=True, right_index=True, suffixes=['_avg','_count'])"
   ]
  },
  {
   "cell_type": "code",
   "execution_count": 52,
   "metadata": {
    "pycharm": {
     "metadata": false,
     "name": "#%%\n"
    }
   },
   "outputs": [
    {
     "data": {
      "text/plain": [
       "<matplotlib.axes._subplots.AxesSubplot at 0x7ff9827ce208>"
      ]
     },
     "execution_count": 52,
     "metadata": {},
     "output_type": "execute_result"
    },
    {
     "data": {
      "image/png": "[encoded data removed]",
      "text/plain": [
       "<Figure size 432x288 with 1 Axes>"
      ]
     },
     "metadata": {
      "needs_background": "light"
     },
     "output_type": "display_data"
    }
   ],
   "source": [
    "df_merge[['Fuel Information.City mpg', 'Count']].sort_values(by=['Count','Fuel Information.City mpg'], ascending=False).head(5).plot(kind='barh')"
   ]
  },
  {
   "cell_type": "code",
   "execution_count": null,
   "metadata": {},
   "outputs": [],
   "source": []
  }
 ],
 "metadata": {
  "kernelspec": {
   "display_name": "Python 3",
   "language": "python",
   "name": "python3"
  },
  "language_info": {
   "codemirror_mode": {
    "name": "ipython",
    "version": 3
   },
   "file_extension": ".py",
   "mimetype": "text/x-python",
   "name": "python",
   "nbconvert_exporter": "python",
   "pygments_lexer": "ipython3",
   "version": "3.6.9"
  },
  "stem_cell": {
   "cell_type": "raw",
   "metadata": {
    "pycharm": {
     "metadata": false
    }
   },
   "source": ""
  }
 },
 "nbformat": 4,
 "nbformat_minor": 4
}
