{
  "cells": [
    {
      "cell_type": "markdown",
      "metadata": {
        "pycharm": {
          "metadata": false
        }
      },
      "source": "# Python - Pandas \n\n- Selecting and subsetting data  \n- Data types  \n- Data manipulation and processing techniques  \n\n[Pandas Reference](http://pandas.pydata.org/pandas-docs/stable/reference/index.html)",
      "execution_count": 109
    },
    {
      "cell_type": "markdown",
      "metadata": {
        "pycharm": {
          "metadata": false,
          "name": "#%% md\n"
        }
      },
      "source": [
        "## Series and DataFrames"
      ]
    },
    {
      "cell_type": "code",
      "execution_count": 64,
      "metadata": {
        "pycharm": {
          "metadata": false,
          "name": "#%%\n"
        }
      },
      "outputs": [],
      "source": [
        "import numpy as np\n",
        "import pandas as pd"
      ]
    },
    {
      "cell_type": "markdown",
      "metadata": {
        "pycharm": {
          "metadata": false,
          "name": "#%% md\n"
        }
      },
      "source": [
        "- Series"
      ]
    },
    {
      "cell_type": "code",
      "execution_count": 65,
      "metadata": {
        "pycharm": {
          "metadata": false,
          "name": "#%%\n"
        }
      },
      "outputs": [
        {
          "data": {
            "text/plain": "0    1.0\n1    3.0\n2    5.0\n3    NaN\n4    6.0\n5    8.0\ndtype: float64"
          },
          "metadata": {},
          "output_type": "execute_result",
          "execution_count": 65
        }
      ],
      "source": [
        "s \u003d pd.Series([1, 3, 5, np.nan, 6, 8])\n",
        "s"
      ]
    },
    {
      "cell_type": "markdown",
      "metadata": {
        "pycharm": {
          "metadata": false,
          "name": "#%% md\n"
        }
      },
      "source": [
        "- DataFrames # Very similar to R dataframes"
      ]
    },
    {
      "cell_type": "code",
      "execution_count": 66,
      "metadata": {
        "pycharm": {
          "metadata": false,
          "name": "#%%\n"
        }
      },
      "outputs": [
        {
          "data": {
            "text/plain": "DatetimeIndex([\u00272013-01-01\u0027, \u00272013-01-02\u0027, \u00272013-01-03\u0027, \u00272013-01-04\u0027,\n               \u00272013-01-05\u0027, \u00272013-01-06\u0027],\n              dtype\u003d\u0027datetime64[ns]\u0027, freq\u003d\u0027D\u0027)"
          },
          "metadata": {},
          "output_type": "execute_result",
          "execution_count": 66
        }
      ],
      "source": [
        "import pandas as pd\n",
        "dates \u003d pd.date_range(\u002720130101\u0027, periods\u003d6) \n",
        "# R + lubridate:  dates \u003c- ymd(\"2013-01-01\")+days(0:5)\n",
        "dates"
      ]
    },
    {
      "cell_type": "code",
      "execution_count": 67,
      "metadata": {
        "pycharm": {
          "metadata": false,
          "name": "#%%\n"
        }
      },
      "outputs": [
        {
          "data": {
            "text/plain": "                   A         B         C         D\n2013-01-01 -0.072784  0.162603 -1.467090 -0.491358\n2013-01-02 -0.323234  0.597184  0.488194 -0.195534\n2013-01-03  0.065438  1.476617  0.125245 -0.858524\n2013-01-04  1.167757 -1.307352 -0.769804  0.684242\n2013-01-05 -0.720032  1.178906  0.880000  0.727453\n2013-01-06 -0.833819 -0.879228  0.214297  0.645847",
            "text/html": "\u003cdiv\u003e\n\u003cstyle scoped\u003e\n    .dataframe tbody tr th:only-of-type {\n        vertical-align: middle;\n    }\n\n    .dataframe tbody tr th {\n        vertical-align: top;\n    }\n\n    .dataframe thead th {\n        text-align: right;\n    }\n\u003c/style\u003e\n\u003ctable border\u003d\"1\" class\u003d\"dataframe\"\u003e\n  \u003cthead\u003e\n    \u003ctr style\u003d\"text-align: right;\"\u003e\n      \u003cth\u003e\u003c/th\u003e\n      \u003cth\u003eA\u003c/th\u003e\n      \u003cth\u003eB\u003c/th\u003e\n      \u003cth\u003eC\u003c/th\u003e\n      \u003cth\u003eD\u003c/th\u003e\n    \u003c/tr\u003e\n  \u003c/thead\u003e\n  \u003ctbody\u003e\n    \u003ctr\u003e\n      \u003cth\u003e2013-01-01\u003c/th\u003e\n      \u003ctd\u003e-0.072784\u003c/td\u003e\n      \u003ctd\u003e0.162603\u003c/td\u003e\n      \u003ctd\u003e-1.467090\u003c/td\u003e\n      \u003ctd\u003e-0.491358\u003c/td\u003e\n    \u003c/tr\u003e\n    \u003ctr\u003e\n      \u003cth\u003e2013-01-02\u003c/th\u003e\n      \u003ctd\u003e-0.323234\u003c/td\u003e\n      \u003ctd\u003e0.597184\u003c/td\u003e\n      \u003ctd\u003e0.488194\u003c/td\u003e\n      \u003ctd\u003e-0.195534\u003c/td\u003e\n    \u003c/tr\u003e\n    \u003ctr\u003e\n      \u003cth\u003e2013-01-03\u003c/th\u003e\n      \u003ctd\u003e0.065438\u003c/td\u003e\n      \u003ctd\u003e1.476617\u003c/td\u003e\n      \u003ctd\u003e0.125245\u003c/td\u003e\n      \u003ctd\u003e-0.858524\u003c/td\u003e\n    \u003c/tr\u003e\n    \u003ctr\u003e\n      \u003cth\u003e2013-01-04\u003c/th\u003e\n      \u003ctd\u003e1.167757\u003c/td\u003e\n      \u003ctd\u003e-1.307352\u003c/td\u003e\n      \u003ctd\u003e-0.769804\u003c/td\u003e\n      \u003ctd\u003e0.684242\u003c/td\u003e\n    \u003c/tr\u003e\n    \u003ctr\u003e\n      \u003cth\u003e2013-01-05\u003c/th\u003e\n      \u003ctd\u003e-0.720032\u003c/td\u003e\n      \u003ctd\u003e1.178906\u003c/td\u003e\n      \u003ctd\u003e0.880000\u003c/td\u003e\n      \u003ctd\u003e0.727453\u003c/td\u003e\n    \u003c/tr\u003e\n    \u003ctr\u003e\n      \u003cth\u003e2013-01-06\u003c/th\u003e\n      \u003ctd\u003e-0.833819\u003c/td\u003e\n      \u003ctd\u003e-0.879228\u003c/td\u003e\n      \u003ctd\u003e0.214297\u003c/td\u003e\n      \u003ctd\u003e0.645847\u003c/td\u003e\n    \u003c/tr\u003e\n  \u003c/tbody\u003e\n\u003c/table\u003e\n\u003c/div\u003e"
          },
          "metadata": {},
          "output_type": "execute_result",
          "execution_count": 67
        }
      ],
      "source": [
        "df \u003d pd.DataFrame(np.random.randn(6, 4), index\u003ddates, columns\u003dlist(\u0027ABCD\u0027))\n",
        "# R + tidyverse: \n",
        "# m \u003c- matrix(rnorm(6*4), ncol \u003d 4)\n",
        "# colnames(m) \u003c- c(\"A\", \"B\", \"C\", \"D\")\n",
        "# df \u003c- as_tibble(m) %\u003e% mutate(dates)\n",
        "df"
      ]
    },
    {
      "cell_type": "markdown",
      "metadata": {
        "pycharm": {
          "metadata": false,
          "name": "#%% md\n"
        }
      },
      "source": [
        "## Pandas vs. R"
      ]
    },
    {
      "cell_type": "code",
      "execution_count": 69,
      "metadata": {
        "pycharm": {
          "metadata": false,
          "name": "#%%\n"
        }
      },
      "outputs": [
        {
          "data": {
            "text/plain": "(6, 4)"
          },
          "metadata": {},
          "output_type": "execute_result",
          "execution_count": 69
        }
      ],
      "source": [
        "df.shape # R: dim(df)"
      ]
    },
    {
      "cell_type": "code",
      "execution_count": 70,
      "metadata": {
        "pycharm": {
          "metadata": false,
          "name": "#%%\n"
        }
      },
      "outputs": [
        {
          "data": {
            "text/plain": "                   A         B         C         D\n2013-01-01 -0.072784  0.162603 -1.467090 -0.491358\n2013-01-02 -0.323234  0.597184  0.488194 -0.195534\n2013-01-03  0.065438  1.476617  0.125245 -0.858524",
            "text/html": "\u003cdiv\u003e\n\u003cstyle scoped\u003e\n    .dataframe tbody tr th:only-of-type {\n        vertical-align: middle;\n    }\n\n    .dataframe tbody tr th {\n        vertical-align: top;\n    }\n\n    .dataframe thead th {\n        text-align: right;\n    }\n\u003c/style\u003e\n\u003ctable border\u003d\"1\" class\u003d\"dataframe\"\u003e\n  \u003cthead\u003e\n    \u003ctr style\u003d\"text-align: right;\"\u003e\n      \u003cth\u003e\u003c/th\u003e\n      \u003cth\u003eA\u003c/th\u003e\n      \u003cth\u003eB\u003c/th\u003e\n      \u003cth\u003eC\u003c/th\u003e\n      \u003cth\u003eD\u003c/th\u003e\n    \u003c/tr\u003e\n  \u003c/thead\u003e\n  \u003ctbody\u003e\n    \u003ctr\u003e\n      \u003cth\u003e2013-01-01\u003c/th\u003e\n      \u003ctd\u003e-0.072784\u003c/td\u003e\n      \u003ctd\u003e0.162603\u003c/td\u003e\n      \u003ctd\u003e-1.467090\u003c/td\u003e\n      \u003ctd\u003e-0.491358\u003c/td\u003e\n    \u003c/tr\u003e\n    \u003ctr\u003e\n      \u003cth\u003e2013-01-02\u003c/th\u003e\n      \u003ctd\u003e-0.323234\u003c/td\u003e\n      \u003ctd\u003e0.597184\u003c/td\u003e\n      \u003ctd\u003e0.488194\u003c/td\u003e\n      \u003ctd\u003e-0.195534\u003c/td\u003e\n    \u003c/tr\u003e\n    \u003ctr\u003e\n      \u003cth\u003e2013-01-03\u003c/th\u003e\n      \u003ctd\u003e0.065438\u003c/td\u003e\n      \u003ctd\u003e1.476617\u003c/td\u003e\n      \u003ctd\u003e0.125245\u003c/td\u003e\n      \u003ctd\u003e-0.858524\u003c/td\u003e\n    \u003c/tr\u003e\n  \u003c/tbody\u003e\n\u003c/table\u003e\n\u003c/div\u003e"
          },
          "metadata": {},
          "output_type": "execute_result",
          "execution_count": 70
        }
      ],
      "source": [
        "df.head(3) # R: head(df, 3)"
      ]
    },
    {
      "cell_type": "code",
      "execution_count": 71,
      "metadata": {
        "pycharm": {
          "metadata": false,
          "name": "#%%\n"
        }
      },
      "outputs": [
        {
          "data": {
            "text/plain": "A   -0.119446\nB    0.204788\nC   -0.088193\nD    0.085354\ndtype: float64"
          },
          "metadata": {},
          "output_type": "execute_result",
          "execution_count": 71
        }
      ],
      "source": [
        "df.mean()\n",
        "# R + tidyverse: df %\u003e% select_if(is.numeric) %\u003e% map_dbl(mean, na.rm \u003d TRUE)"
      ]
    },
    {
      "cell_type": "code",
      "execution_count": 72,
      "metadata": {
        "pycharm": {
          "metadata": false,
          "name": "#%%\n"
        }
      },
      "outputs": [
        {
          "data": {
            "text/plain": "\u003cFigure size 540x540 with 12 Axes\u003e",
            "image/png": "[encoded data removed]"
          },
          "metadata": {
            "needs_background": "light"
          },
          "output_type": "display_data"
        }
      ],
      "source": [
        "%matplotlib inline\n",
        "import seaborn as sns\n",
        "import matplotlib.pyplot as plt\n",
        "sns.pairplot(df[[\"A\", \"B\", \"C\"]])\n",
        "plt.show()\n",
        "# R + GGally: df %\u003e% select(A, B, C) %\u003e% ggpairs()"
      ]
    },
    {
      "cell_type": "markdown",
      "metadata": {
        "pycharm": {
          "metadata": false,
          "name": "#%% md\n"
        }
      },
      "source": "## Pandas vs. Tidyr\n\n| **pandas** | **tidyr** |\n| :---: | :---: |\n| melt |\tgather |\n| pivot |\tspread |\n\n## Pandas vs. Dplyr\n| **pandas** | **dplyr** |\n| :---: | :---: |\n| mutate |\tassign |\n| select |\tfilter |\n| rename |\trename |\n| filter |\tquery |\n| arrange |\tsort_values |\n| group_by |\tgroupby |\n| summarize |\tagg \n"
    },
    {
      "cell_type": "markdown",
      "source": "## Panda read data from Kaggle by using Kaggle\u0027s API\n[GitHub reference](https://github.com/kaggle/kaggle-api)\n\nIt is required the package `kaggle`\n        #%%bash\n        pip install kaggle --upgrade",
      "metadata": {
        "pycharm": {
          "metadata": false,
          "name": "#%% md\n"
        }
      }
    },
    {
      "cell_type": "markdown",
      "source": "Then it is required to **\u0027Create API Token\u0027** from the \nKraggle Account.\n\nThis will trigger the download of `kaggle.json`, \na file containing your API credentials. \n\nPlace this file in the location `~/.kaggle/kaggle.json`",
      "metadata": {
        "pycharm": {
          "metadata": false,
          "name": "#%% md\n"
        }
      }
    },
    {
      "cell_type": "code",
      "execution_count": 73,
      "outputs": [
        {
          "name": "stdout",
          "text": [
            "Warning: Your Kaggle API key is readable by other users on this system! To fix this, you can run \u0027chmod 600 /Users/bdauria/.kaggle/kaggle.json\u0027\nWarning: Your Kaggle API key is readable by other users on this system! To fix this, you can run \u0027chmod 600 /Users/bdauria/.kaggle/kaggle.json\u0027\n"
          ],
          "output_type": "stream"
        }
      ],
      "source": "import kaggle\nimport pandas as pd\nkaggle.api.authenticate()\nkaggle.api.dataset_download_files(\u0027toramky/automobile-dataset\u0027, unzip\u003dTrue)\ncar_data \u003d pd.read_csv(\"Automobile_data.csv\")",
      "metadata": {
        "pycharm": {
          "metadata": false,
          "name": "#%%\n"
        }
      }
    },
    {
      "cell_type": "markdown",
      "source": "## Panda read data from url ",
      "metadata": {
        "pycharm": {
          "metadata": false
        }
      }
    },
    {
      "cell_type": "code",
      "execution_count": 74,
      "outputs": [],
      "source": "import pandas as pd\nimport io\nimport requests as rq\n\nurl\u003d\"https://think.cs.vt.edu/corgis/csv/cars/cars.csv?forcedownload\u003d1\"\ndf\u003dpd.read_csv((io.StringIO(rq.get(url).content.decode(\u0027utf-8\u0027))))",
      "metadata": {
        "pycharm": {
          "metadata": false,
          "name": "#%%\n"
        }
      }
    },
    {
      "cell_type": "markdown",
      "source": "we start by visualizing the variables, the number of observations and some of them",
      "metadata": {
        "pycharm": {
          "metadata": false,
          "name": "#%% md\n"
        }
      }
    },
    {
      "cell_type": "code",
      "execution_count": 75,
      "outputs": [
        {
          "name": "stdout",
          "text": [
            "Index([\u0027City mpg\u0027, \u0027Classification\u0027, \u0027Driveline\u0027, \u0027Engine Type\u0027, \u0027Fuel Type\u0027,\n       \u0027Height\u0027, \u0027Highway mpg\u0027, \u0027Horsepower\u0027, \u0027Hybrid\u0027, \u0027ID\u0027, \u0027Length\u0027, \u0027Make\u0027,\n       \u0027Model Year\u0027, \u0027Number of Forward Gears\u0027, \u0027Torque\u0027, \u0027Transmission\u0027,\n       \u0027Width\u0027, \u0027Year\u0027],\n      dtype\u003d\u0027object\u0027)\n"
          ],
          "output_type": "stream"
        },
        {
          "data": {
            "text/plain": "\u003cIPython.core.display.HTML object\u003e",
            "text/html": "\u003cdiv\u003eNumber of observation: \u003cfont style\u003d\"color: yellow;\"\u003e5076\u003c/span\u003e\u003c/font\u003e"
          },
          "metadata": {},
          "output_type": "display_data"
        },
        {
          "data": {
            "text/plain": "   City mpg          Classification          Driveline  \\\n0        18  Automatic transmission    All-wheel drive   \n1        22  Automatic transmission  Front-wheel drive   \n\n                                    Engine Type Fuel Type  Height  \\\n0          Audi 3.2L 6 cylinder 250hp 236ft-lbs  Gasoline     140   \n1  Audi 2.0L 4 cylinder 200 hp 207 ft-lbs Turbo  Gasoline     140   \n\n   Highway mpg  Horsepower  Hybrid                     ID  Length  Make  \\\n0           25         250   False       2009 Audi A3 3.2     143  Audi   \n1           28         200   False  2009 Audi A3 2.0 T AT     143  Audi   \n\n     Model Year  Number of Forward Gears  Torque  \\\n0  2009 Audi A3                        6     236   \n1  2009 Audi A3                        6     207   \n\n                     Transmission  Width  Year  \n0  6 Speed Automatic Select Shift    202  2009  \n1  6 Speed Automatic Select Shift    202  2009  ",
            "text/html": "\u003cdiv\u003e\n\u003cstyle scoped\u003e\n    .dataframe tbody tr th:only-of-type {\n        vertical-align: middle;\n    }\n\n    .dataframe tbody tr th {\n        vertical-align: top;\n    }\n\n    .dataframe thead th {\n        text-align: right;\n    }\n\u003c/style\u003e\n\u003ctable border\u003d\"1\" class\u003d\"dataframe\"\u003e\n  \u003cthead\u003e\n    \u003ctr style\u003d\"text-align: right;\"\u003e\n      \u003cth\u003e\u003c/th\u003e\n      \u003cth\u003eCity mpg\u003c/th\u003e\n      \u003cth\u003eClassification\u003c/th\u003e\n      \u003cth\u003eDriveline\u003c/th\u003e\n      \u003cth\u003eEngine Type\u003c/th\u003e\n      \u003cth\u003eFuel Type\u003c/th\u003e\n      \u003cth\u003eHeight\u003c/th\u003e\n      \u003cth\u003eHighway mpg\u003c/th\u003e\n      \u003cth\u003eHorsepower\u003c/th\u003e\n      \u003cth\u003eHybrid\u003c/th\u003e\n      \u003cth\u003eID\u003c/th\u003e\n      \u003cth\u003eLength\u003c/th\u003e\n      \u003cth\u003eMake\u003c/th\u003e\n      \u003cth\u003eModel Year\u003c/th\u003e\n      \u003cth\u003eNumber of Forward Gears\u003c/th\u003e\n      \u003cth\u003eTorque\u003c/th\u003e\n      \u003cth\u003eTransmission\u003c/th\u003e\n      \u003cth\u003eWidth\u003c/th\u003e\n      \u003cth\u003eYear\u003c/th\u003e\n    \u003c/tr\u003e\n  \u003c/thead\u003e\n  \u003ctbody\u003e\n    \u003ctr\u003e\n      \u003cth\u003e0\u003c/th\u003e\n      \u003ctd\u003e18\u003c/td\u003e\n      \u003ctd\u003eAutomatic transmission\u003c/td\u003e\n      \u003ctd\u003eAll-wheel drive\u003c/td\u003e\n      \u003ctd\u003eAudi 3.2L 6 cylinder 250hp 236ft-lbs\u003c/td\u003e\n      \u003ctd\u003eGasoline\u003c/td\u003e\n      \u003ctd\u003e140\u003c/td\u003e\n      \u003ctd\u003e25\u003c/td\u003e\n      \u003ctd\u003e250\u003c/td\u003e\n      \u003ctd\u003eFalse\u003c/td\u003e\n      \u003ctd\u003e2009 Audi A3 3.2\u003c/td\u003e\n      \u003ctd\u003e143\u003c/td\u003e\n      \u003ctd\u003eAudi\u003c/td\u003e\n      \u003ctd\u003e2009 Audi A3\u003c/td\u003e\n      \u003ctd\u003e6\u003c/td\u003e\n      \u003ctd\u003e236\u003c/td\u003e\n      \u003ctd\u003e6 Speed Automatic Select Shift\u003c/td\u003e\n      \u003ctd\u003e202\u003c/td\u003e\n      \u003ctd\u003e2009\u003c/td\u003e\n    \u003c/tr\u003e\n    \u003ctr\u003e\n      \u003cth\u003e1\u003c/th\u003e\n      \u003ctd\u003e22\u003c/td\u003e\n      \u003ctd\u003eAutomatic transmission\u003c/td\u003e\n      \u003ctd\u003eFront-wheel drive\u003c/td\u003e\n      \u003ctd\u003eAudi 2.0L 4 cylinder 200 hp 207 ft-lbs Turbo\u003c/td\u003e\n      \u003ctd\u003eGasoline\u003c/td\u003e\n      \u003ctd\u003e140\u003c/td\u003e\n      \u003ctd\u003e28\u003c/td\u003e\n      \u003ctd\u003e200\u003c/td\u003e\n      \u003ctd\u003eFalse\u003c/td\u003e\n      \u003ctd\u003e2009 Audi A3 2.0 T AT\u003c/td\u003e\n      \u003ctd\u003e143\u003c/td\u003e\n      \u003ctd\u003eAudi\u003c/td\u003e\n      \u003ctd\u003e2009 Audi A3\u003c/td\u003e\n      \u003ctd\u003e6\u003c/td\u003e\n      \u003ctd\u003e207\u003c/td\u003e\n      \u003ctd\u003e6 Speed Automatic Select Shift\u003c/td\u003e\n      \u003ctd\u003e202\u003c/td\u003e\n      \u003ctd\u003e2009\u003c/td\u003e\n    \u003c/tr\u003e\n  \u003c/tbody\u003e\n\u003c/table\u003e\n\u003c/div\u003e"
          },
          "metadata": {},
          "output_type": "execute_result",
          "execution_count": 75
        }
      ],
      "source": "from IPython.core.display import display, HTML\n\nprint(df.columns)\ndisplay(HTML(\u0027\u003cdiv\u003eNumber of observation: \u003cfont style\u003d\"color: yellow;\"\u003e%d\u003c/span\u003e\u003c/font\u003e\u0027 % len(df)))\ndf.head(2)",
      "metadata": {
        "pycharm": {
          "metadata": false,
          "name": "#%% \n"
        }
      }
    },
    {
      "cell_type": "code",
      "execution_count": 76,
      "outputs": [
        {
          "data": {
            "text/plain": "array([\u00272009 Audi A3\u0027, \u00272009 Audi A5\u0027, \u00272009 Audi Q7\u0027,\n       \u00272009 Audi A4 Sedan\u0027, \u00272012 Acura TL\u0027], dtype\u003dobject)"
          },
          "metadata": {},
          "output_type": "execute_result",
          "execution_count": 76
        }
      ],
      "source": "df[\u0027Model Year\u0027].unique()[:5]",
      "metadata": {
        "pycharm": {
          "metadata": false,
          "name": "#%%\n"
        }
      }
    },
    {
      "cell_type": "markdown",
      "source": "Let us define a function to extract the _car model_ from the column `Model Year`",
      "metadata": {
        "pycharm": {
          "metadata": false
        }
      }
    },
    {
      "cell_type": "code",
      "execution_count": 77,
      "outputs": [],
      "source": "def reduce_model_year(my,y):\n    return my.replace(str(y),\u0027\u0027);",
      "metadata": {
        "pycharm": {
          "metadata": false,
          "name": "#%%\n"
        }
      }
    },
    {
      "cell_type": "markdown",
      "source": "The we use the `DataFrame` method `apply` to crate the new column `model`",
      "metadata": {
        "pycharm": {
          "metadata": false
        }
      }
    },
    {
      "cell_type": "code",
      "execution_count": 78,
      "outputs": [
        {
          "data": {
            "text/plain": "     Model Year     model\n0  2009 Audi A3   Audi A3\n1  2009 Audi A3   Audi A3\n2  2009 Audi A3   Audi A3",
            "text/html": "\u003cdiv\u003e\n\u003cstyle scoped\u003e\n    .dataframe tbody tr th:only-of-type {\n        vertical-align: middle;\n    }\n\n    .dataframe tbody tr th {\n        vertical-align: top;\n    }\n\n    .dataframe thead th {\n        text-align: right;\n    }\n\u003c/style\u003e\n\u003ctable border\u003d\"1\" class\u003d\"dataframe\"\u003e\n  \u003cthead\u003e\n    \u003ctr style\u003d\"text-align: right;\"\u003e\n      \u003cth\u003e\u003c/th\u003e\n      \u003cth\u003eModel Year\u003c/th\u003e\n      \u003cth\u003emodel\u003c/th\u003e\n    \u003c/tr\u003e\n  \u003c/thead\u003e\n  \u003ctbody\u003e\n    \u003ctr\u003e\n      \u003cth\u003e0\u003c/th\u003e\n      \u003ctd\u003e2009 Audi A3\u003c/td\u003e\n      \u003ctd\u003eAudi A3\u003c/td\u003e\n    \u003c/tr\u003e\n    \u003ctr\u003e\n      \u003cth\u003e1\u003c/th\u003e\n      \u003ctd\u003e2009 Audi A3\u003c/td\u003e\n      \u003ctd\u003eAudi A3\u003c/td\u003e\n    \u003c/tr\u003e\n    \u003ctr\u003e\n      \u003cth\u003e2\u003c/th\u003e\n      \u003ctd\u003e2009 Audi A3\u003c/td\u003e\n      \u003ctd\u003eAudi A3\u003c/td\u003e\n    \u003c/tr\u003e\n  \u003c/tbody\u003e\n\u003c/table\u003e\n\u003c/div\u003e"
          },
          "metadata": {},
          "output_type": "execute_result",
          "execution_count": 78
        }
      ],
      "source": "if \u0027model\u0027 in df.columns:       # if the column `model` has been created before\n    df.drop(\u0027model\u0027, axis\u003d1)    # drop it\ndf[\u0027model\u0027] \u003d df.apply(lambda x: reduce_model_year(x[\u0027Model Year\u0027], x[\u0027Year\u0027]), axis\u003d1)\ndf.filter(items\u003d[\u0027Model Year\u0027, \u0027model\u0027]).head(3)",
      "metadata": {
        "pycharm": {
          "metadata": false,
          "name": "#%%\n"
        }
      }
    },
    {
      "cell_type": "markdown",
      "source": "An alternative way to make this would be by using the `assign` method together with the `numpy.vectorize`\nfunction that is used to vectoring the function `reduce_model_year`",
      "metadata": {
        "pycharm": {
          "metadata": false
        }
      }
    },
    {
      "cell_type": "code",
      "execution_count": 79,
      "outputs": [
        {
          "data": {
            "text/plain": "     Model Year     model\n0  2009 Audi A3   Audi A3\n1  2009 Audi A3   Audi A3\n2  2009 Audi A3   Audi A3",
            "text/html": "\u003cdiv\u003e\n\u003cstyle scoped\u003e\n    .dataframe tbody tr th:only-of-type {\n        vertical-align: middle;\n    }\n\n    .dataframe tbody tr th {\n        vertical-align: top;\n    }\n\n    .dataframe thead th {\n        text-align: right;\n    }\n\u003c/style\u003e\n\u003ctable border\u003d\"1\" class\u003d\"dataframe\"\u003e\n  \u003cthead\u003e\n    \u003ctr style\u003d\"text-align: right;\"\u003e\n      \u003cth\u003e\u003c/th\u003e\n      \u003cth\u003eModel Year\u003c/th\u003e\n      \u003cth\u003emodel\u003c/th\u003e\n    \u003c/tr\u003e\n  \u003c/thead\u003e\n  \u003ctbody\u003e\n    \u003ctr\u003e\n      \u003cth\u003e0\u003c/th\u003e\n      \u003ctd\u003e2009 Audi A3\u003c/td\u003e\n      \u003ctd\u003eAudi A3\u003c/td\u003e\n    \u003c/tr\u003e\n    \u003ctr\u003e\n      \u003cth\u003e1\u003c/th\u003e\n      \u003ctd\u003e2009 Audi A3\u003c/td\u003e\n      \u003ctd\u003eAudi A3\u003c/td\u003e\n    \u003c/tr\u003e\n    \u003ctr\u003e\n      \u003cth\u003e2\u003c/th\u003e\n      \u003ctd\u003e2009 Audi A3\u003c/td\u003e\n      \u003ctd\u003eAudi A3\u003c/td\u003e\n    \u003c/tr\u003e\n  \u003c/tbody\u003e\n\u003c/table\u003e\n\u003c/div\u003e"
          },
          "metadata": {},
          "output_type": "execute_result",
          "execution_count": 79
        }
      ],
      "source": "import numpy as np\nif \u0027model\u0027 in df.columns:       # if the column `model` has been created before\n    df.drop(\u0027model\u0027, axis\u003d1)    # drop it\ndf \u003d df.assign(model\u003dlambda x: np.vectorize(reduce_model_year)(x[\u0027Model Year\u0027], x[\u0027Year\u0027]), axis\u003d1)\ndf[[\u0027Model Year\u0027, \u0027model\u0027]].head(3) # other way to make a filter",
      "metadata": {
        "pycharm": {
          "metadata": false,
          "name": "#%%\n"
        }
      }
    },
    {
      "cell_type": "markdown",
      "source": "Let us count the number of lines containing `NaNs`value",
      "metadata": {
        "pycharm": {
          "metadata": false,
          "name": "#%% md\n"
        }
      }
    },
    {
      "cell_type": "code",
      "execution_count": 81,
      "outputs": [
        {
          "data": {
            "text/plain": "City mpg                   0\nClassification             0\nDriveline                  0\nEngine Type                0\nFuel Type                  0\nHeight                     0\nHighway mpg                0\nHorsepower                 0\nHybrid                     0\nID                         0\nLength                     0\nMake                       0\nModel Year                 0\nNumber of Forward Gears    0\nTorque                     0\nTransmission               0\nWidth                      0\nYear                       0\nmodel                      0\naxis                       0\ndtype: int64"
          },
          "metadata": {},
          "output_type": "execute_result",
          "execution_count": 81
        }
      ],
      "source": "len(df) - df.count()",
      "metadata": {
        "pycharm": {
          "metadata": false,
          "name": "#%%\n"
        }
      }
    },
    {
      "cell_type": "markdown",
      "source": "### Using Group-by’s and Merges",
      "metadata": {
        "pycharm": {
          "metadata": false,
          "name": "#%% md\n"
        }
      }
    },
    {
      "cell_type": "code",
      "execution_count": 82,
      "outputs": [],
      "source": "group_by_model \u003d df.groupby(by\u003d df[\u0027model\u0027])",
      "metadata": {
        "pycharm": {
          "metadata": false,
          "name": "#%%\n"
        }
      }
    },
    {
      "cell_type": "code",
      "execution_count": 101,
      "outputs": [
        {
          "data": {
            "text/plain": "                     Count               Model Year\nmodel                                              \n  Volkswagen Routan      4  2010  Volkswagen Routan\n Acura MDX               3           2010 Acura MDX\n Acura RDX               4           2010 Acura RDX\n Acura RL                3            2010 Acura RL\n Acura TL                8            2012 Acura TL",
            "text/html": "\u003cdiv\u003e\n\u003cstyle scoped\u003e\n    .dataframe tbody tr th:only-of-type {\n        vertical-align: middle;\n    }\n\n    .dataframe tbody tr th {\n        vertical-align: top;\n    }\n\n    .dataframe thead th {\n        text-align: right;\n    }\n\u003c/style\u003e\n\u003ctable border\u003d\"1\" class\u003d\"dataframe\"\u003e\n  \u003cthead\u003e\n    \u003ctr style\u003d\"text-align: right;\"\u003e\n      \u003cth\u003e\u003c/th\u003e\n      \u003cth\u003eCount\u003c/th\u003e\n      \u003cth\u003eModel Year\u003c/th\u003e\n    \u003c/tr\u003e\n    \u003ctr\u003e\n      \u003cth\u003emodel\u003c/th\u003e\n      \u003cth\u003e\u003c/th\u003e\n      \u003cth\u003e\u003c/th\u003e\n    \u003c/tr\u003e\n  \u003c/thead\u003e\n  \u003ctbody\u003e\n    \u003ctr\u003e\n      \u003cth\u003eVolkswagen Routan\u003c/th\u003e\n      \u003ctd\u003e4\u003c/td\u003e\n      \u003ctd\u003e2010  Volkswagen Routan\u003c/td\u003e\n    \u003c/tr\u003e\n    \u003ctr\u003e\n      \u003cth\u003eAcura MDX\u003c/th\u003e\n      \u003ctd\u003e3\u003c/td\u003e\n      \u003ctd\u003e2010 Acura MDX\u003c/td\u003e\n    \u003c/tr\u003e\n    \u003ctr\u003e\n      \u003cth\u003eAcura RDX\u003c/th\u003e\n      \u003ctd\u003e4\u003c/td\u003e\n      \u003ctd\u003e2010 Acura RDX\u003c/td\u003e\n    \u003c/tr\u003e\n    \u003ctr\u003e\n      \u003cth\u003eAcura RL\u003c/th\u003e\n      \u003ctd\u003e3\u003c/td\u003e\n      \u003ctd\u003e2010 Acura RL\u003c/td\u003e\n    \u003c/tr\u003e\n    \u003ctr\u003e\n      \u003cth\u003eAcura TL\u003c/th\u003e\n      \u003ctd\u003e8\u003c/td\u003e\n      \u003ctd\u003e2012 Acura TL\u003c/td\u003e\n    \u003c/tr\u003e\n  \u003c/tbody\u003e\n\u003c/table\u003e\n\u003c/div\u003e"
          },
          "metadata": {},
          "output_type": "execute_result",
          "execution_count": 101
        }
      ],
      "source": "df_count \u003d (group_by_model \n .agg({\u0027ID\u0027:\u0027count\u0027, \u0027Model Year\u0027:\u0027first\u0027})\n .rename(columns\u003d{\u0027ID\u0027:\u0027Count\u0027}))\ndf_count.head()",
      "metadata": {
        "pycharm": {
          "metadata": false,
          "name": "#%%\n"
        }
      }
    },
    {
      "cell_type": "code",
      "execution_count": 102,
      "outputs": [
        {
          "data": {
            "text/plain": "                      City mpg  Height  Highway mpg  Horsepower  Hybrid  \\\nmodel                                                                     \n  Volkswagen Routan  16.500000   214.0    24.000000     224.000     0.0   \n Acura MDX           16.000000   197.0    21.000000     300.000     0.0   \n Acura RDX           18.000000   119.0    23.000000     240.000     0.0   \n Acura RL            16.666667   175.0    23.333333     300.000     0.0   \n Acura TL            17.750000   172.0    25.875000     295.625     0.0   \n\n                     Length  Number of Forward Gears   Torque   Width  \\\nmodel                                                                   \n  Volkswagen Routan    19.0                 6.000000  244.500  161.00   \n Acura MDX              3.0                 6.000000  270.000  202.00   \n Acura RDX             27.0                 5.000000  260.000   78.00   \n Acura RL             109.0                 5.666667  271.000   55.00   \n Acura TL              91.5                 5.500000  265.875   87.75   \n\n                         Year  axis  \nmodel                                \n  Volkswagen Routan  2010.000   1.0  \n Acura MDX           2011.000   1.0  \n Acura RDX           2010.500   1.0  \n Acura RL            2011.000   1.0  \n Acura TL            2010.875   1.0  ",
            "text/html": "\u003cdiv\u003e\n\u003cstyle scoped\u003e\n    .dataframe tbody tr th:only-of-type {\n        vertical-align: middle;\n    }\n\n    .dataframe tbody tr th {\n        vertical-align: top;\n    }\n\n    .dataframe thead th {\n        text-align: right;\n    }\n\u003c/style\u003e\n\u003ctable border\u003d\"1\" class\u003d\"dataframe\"\u003e\n  \u003cthead\u003e\n    \u003ctr style\u003d\"text-align: right;\"\u003e\n      \u003cth\u003e\u003c/th\u003e\n      \u003cth\u003eCity mpg\u003c/th\u003e\n      \u003cth\u003eHeight\u003c/th\u003e\n      \u003cth\u003eHighway mpg\u003c/th\u003e\n      \u003cth\u003eHorsepower\u003c/th\u003e\n      \u003cth\u003eHybrid\u003c/th\u003e\n      \u003cth\u003eLength\u003c/th\u003e\n      \u003cth\u003eNumber of Forward Gears\u003c/th\u003e\n      \u003cth\u003eTorque\u003c/th\u003e\n      \u003cth\u003eWidth\u003c/th\u003e\n      \u003cth\u003eYear\u003c/th\u003e\n      \u003cth\u003eaxis\u003c/th\u003e\n    \u003c/tr\u003e\n    \u003ctr\u003e\n      \u003cth\u003emodel\u003c/th\u003e\n      \u003cth\u003e\u003c/th\u003e\n      \u003cth\u003e\u003c/th\u003e\n      \u003cth\u003e\u003c/th\u003e\n      \u003cth\u003e\u003c/th\u003e\n      \u003cth\u003e\u003c/th\u003e\n      \u003cth\u003e\u003c/th\u003e\n      \u003cth\u003e\u003c/th\u003e\n      \u003cth\u003e\u003c/th\u003e\n      \u003cth\u003e\u003c/th\u003e\n      \u003cth\u003e\u003c/th\u003e\n      \u003cth\u003e\u003c/th\u003e\n    \u003c/tr\u003e\n  \u003c/thead\u003e\n  \u003ctbody\u003e\n    \u003ctr\u003e\n      \u003cth\u003eVolkswagen Routan\u003c/th\u003e\n      \u003ctd\u003e16.500000\u003c/td\u003e\n      \u003ctd\u003e214.0\u003c/td\u003e\n      \u003ctd\u003e24.000000\u003c/td\u003e\n      \u003ctd\u003e224.000\u003c/td\u003e\n      \u003ctd\u003e0.0\u003c/td\u003e\n      \u003ctd\u003e19.0\u003c/td\u003e\n      \u003ctd\u003e6.000000\u003c/td\u003e\n      \u003ctd\u003e244.500\u003c/td\u003e\n      \u003ctd\u003e161.00\u003c/td\u003e\n      \u003ctd\u003e2010.000\u003c/td\u003e\n      \u003ctd\u003e1.0\u003c/td\u003e\n    \u003c/tr\u003e\n    \u003ctr\u003e\n      \u003cth\u003eAcura MDX\u003c/th\u003e\n      \u003ctd\u003e16.000000\u003c/td\u003e\n      \u003ctd\u003e197.0\u003c/td\u003e\n      \u003ctd\u003e21.000000\u003c/td\u003e\n      \u003ctd\u003e300.000\u003c/td\u003e\n      \u003ctd\u003e0.0\u003c/td\u003e\n      \u003ctd\u003e3.0\u003c/td\u003e\n      \u003ctd\u003e6.000000\u003c/td\u003e\n      \u003ctd\u003e270.000\u003c/td\u003e\n      \u003ctd\u003e202.00\u003c/td\u003e\n      \u003ctd\u003e2011.000\u003c/td\u003e\n      \u003ctd\u003e1.0\u003c/td\u003e\n    \u003c/tr\u003e\n    \u003ctr\u003e\n      \u003cth\u003eAcura RDX\u003c/th\u003e\n      \u003ctd\u003e18.000000\u003c/td\u003e\n      \u003ctd\u003e119.0\u003c/td\u003e\n      \u003ctd\u003e23.000000\u003c/td\u003e\n      \u003ctd\u003e240.000\u003c/td\u003e\n      \u003ctd\u003e0.0\u003c/td\u003e\n      \u003ctd\u003e27.0\u003c/td\u003e\n      \u003ctd\u003e5.000000\u003c/td\u003e\n      \u003ctd\u003e260.000\u003c/td\u003e\n      \u003ctd\u003e78.00\u003c/td\u003e\n      \u003ctd\u003e2010.500\u003c/td\u003e\n      \u003ctd\u003e1.0\u003c/td\u003e\n    \u003c/tr\u003e\n    \u003ctr\u003e\n      \u003cth\u003eAcura RL\u003c/th\u003e\n      \u003ctd\u003e16.666667\u003c/td\u003e\n      \u003ctd\u003e175.0\u003c/td\u003e\n      \u003ctd\u003e23.333333\u003c/td\u003e\n      \u003ctd\u003e300.000\u003c/td\u003e\n      \u003ctd\u003e0.0\u003c/td\u003e\n      \u003ctd\u003e109.0\u003c/td\u003e\n      \u003ctd\u003e5.666667\u003c/td\u003e\n      \u003ctd\u003e271.000\u003c/td\u003e\n      \u003ctd\u003e55.00\u003c/td\u003e\n      \u003ctd\u003e2011.000\u003c/td\u003e\n      \u003ctd\u003e1.0\u003c/td\u003e\n    \u003c/tr\u003e\n    \u003ctr\u003e\n      \u003cth\u003eAcura TL\u003c/th\u003e\n      \u003ctd\u003e17.750000\u003c/td\u003e\n      \u003ctd\u003e172.0\u003c/td\u003e\n      \u003ctd\u003e25.875000\u003c/td\u003e\n      \u003ctd\u003e295.625\u003c/td\u003e\n      \u003ctd\u003e0.0\u003c/td\u003e\n      \u003ctd\u003e91.5\u003c/td\u003e\n      \u003ctd\u003e5.500000\u003c/td\u003e\n      \u003ctd\u003e265.875\u003c/td\u003e\n      \u003ctd\u003e87.75\u003c/td\u003e\n      \u003ctd\u003e2010.875\u003c/td\u003e\n      \u003ctd\u003e1.0\u003c/td\u003e\n    \u003c/tr\u003e\n  \u003c/tbody\u003e\n\u003c/table\u003e\n\u003c/div\u003e"
          },
          "metadata": {},
          "output_type": "execute_result",
          "execution_count": 102
        }
      ],
      "source": "df_mean \u003d group_by_model.mean()\ndf_mean.head()",
      "metadata": {
        "pycharm": {
          "metadata": false,
          "name": "#%%\n"
        }
      }
    },
    {
      "cell_type": "code",
      "execution_count": 103,
      "outputs": [],
      "source": "alternative_method \u003d df_mean.merge(df_count, left_index\u003dTrue, right_index\u003dTrue, suffixes\u003d[\u0027_avg\u0027,\u0027_count\u0027])",
      "metadata": {
        "pycharm": {
          "metadata": false,
          "name": "#%%\n"
        }
      }
    },
    {
      "cell_type": "code",
      "execution_count": 105,
      "outputs": [
        {
          "name": "stdout",
          "text": [
            "Index([\u0027City mpg\u0027, \u0027Height\u0027, \u0027Highway mpg\u0027, \u0027Horsepower\u0027, \u0027Hybrid\u0027, \u0027Length\u0027,\n       \u0027Number of Forward Gears\u0027, \u0027Torque\u0027, \u0027Width\u0027, \u0027Year\u0027, \u0027axis\u0027, \u0027Count\u0027,\n       \u0027Model Year\u0027],\n      dtype\u003d\u0027object\u0027)\n"
          ],
          "output_type": "stream"
        }
      ],
      "source": "print(alternative_method.columns) ",
      "metadata": {
        "pycharm": {
          "metadata": false,
          "name": "#%% \n"
        }
      }
    },
    {
      "cell_type": "code",
      "execution_count": 109,
      "outputs": [
        {
          "data": {
            "text/plain": "\u003cmatplotlib.axes._subplots.AxesSubplot at 0x1257cc470\u003e"
          },
          "metadata": {},
          "output_type": "execute_result",
          "execution_count": 109
        },
        {
          "data": {
            "text/plain": "\u003cFigure size 432x288 with 1 Axes\u003e",
            "image/png": "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\u003d\u003d\n"
          },
          "metadata": {
            "needs_background": "light"
          },
          "output_type": "display_data"
        }
      ],
      "source": "alternative_method[[\u0027City mpg\u0027, \u0027Count\u0027]].sort_values(by\u003d[\u0027Count\u0027,\u0027City mpg\u0027], ascending\u003dFalse).head(5).plot(kind\u003d\u0027barh\u0027)\n",
      "metadata": {
        "pycharm": {
          "metadata": false,
          "name": "#%%\n"
        }
      }
    },
    {
      "cell_type": "code",
      "execution_count": null,
      "outputs": [],
      "source": "\n",
      "metadata": {
        "pycharm": {
          "metadata": false,
          "name": "#%%\n"
        }
      }
    }
  ],
  "metadata": {
    "kernelspec": {
      "display_name": "Python 2",
      "language": "python",
      "name": "python2"
    },
    "language_info": {
      "codemirror_mode": {
        "name": "ipython",
        "version": 2
      },
      "file_extension": ".py",
      "mimetype": "text/x-python",
      "name": "python",
      "nbconvert_exporter": "python",
      "pygments_lexer": "ipython2",
      "version": "2.7.12"
    },
    "stem_cell": {
      "cell_type": "raw",
      "source": "",
      "metadata": {
        "pycharm": {
          "metadata": false
        }
      }
    }
  },
  "nbformat": 4,
  "nbformat_minor": 2
}