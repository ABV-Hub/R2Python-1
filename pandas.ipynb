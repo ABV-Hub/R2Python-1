{
  "cells": [
    {
      "cell_type": "markdown",
      "source": "# Python - Pandas  \n\n[Pandas Reference](http://pandas.pydata.org/pandas-docs/stable/reference/index.html)",
      "metadata": {
        "pycharm": {
          "metadata": false
        }
      }
    },
    {
      "cell_type": "markdown",
      "source": "## Series and DataFrames",
      "metadata": {
        "pycharm": {
          "metadata": false
        }
      }
    },
    {
      "cell_type": "code",
      "execution_count": null,
      "outputs": [],
      "source": "import numpy as np\nimport pandas as pd",
      "metadata": {
        "pycharm": {
          "metadata": false,
          "name": "#%%\n"
        }
      }
    },
    {
      "cell_type": "markdown",
      "source": "- Series",
      "metadata": {
        "pycharm": {
          "metadata": false
        }
      }
    },
    {
      "cell_type": "code",
      "execution_count": null,
      "outputs": [],
      "source": "s \u003d pd.Series([1, 3, 5, np.nan, 6, 8])\ns",
      "metadata": {
        "pycharm": {
          "metadata": false,
          "name": "#%%\n"
        }
      }
    },
    {
      "cell_type": "markdown",
      "source": "- DataFrames # Very similar to R dataframes",
      "metadata": {
        "pycharm": {
          "metadata": false
        }
      }
    },
    {
      "cell_type": "code",
      "execution_count": null,
      "outputs": [],
      "source": "import pandas as pd\ndates \u003d pd.date_range(\u002720130101\u0027, periods\u003d6) \n# R + lubridate:  dates \u003c- ymd(\"2013-01-01\")+days(0:5)\ndates",
      "metadata": {
        "pycharm": {
          "metadata": false,
          "name": "#%%\n"
        }
      }
    },
    {
      "cell_type": "code",
      "execution_count": null,
      "outputs": [],
      "source": "df \u003d pd.DataFrame(np.random.randn(6, 4), index\u003ddates, columns\u003dlist(\u0027ABCD\u0027))\n# R + tidyverse: \n# m \u003c- matrix(rnorm(6*4), ncol \u003d 4)\n# colnames(m) \u003c- c(\"A\", \"B\", \"C\", \"D\")\n# df \u003c- as_tibble(m) %\u003e% mutate(dates)\ndf",
      "metadata": {
        "pycharm": {
          "metadata": false,
          "name": "#%%\n"
        }
      }
    },
    {
      "cell_type": "markdown",
      "source": "## Pandas vs. R",
      "metadata": {
        "pycharm": {
          "metadata": false
        }
      }
    },
    {
      "cell_type": "code",
      "execution_count": null,
      "outputs": [],
      "source": "df.shape # R: dim(df)",
      "metadata": {
        "pycharm": {
          "metadata": false,
          "name": "#%%\n"
        }
      }
    },
    {
      "cell_type": "code",
      "execution_count": null,
      "outputs": [],
      "source": "df.head(3) # R: head(df, 3)",
      "metadata": {
        "pycharm": {
          "metadata": false,
          "name": "#%%\n"
        }
      }
    },
    {
      "cell_type": "code",
      "execution_count": null,
      "outputs": [],
      "source": "df.mean()\n# R + tidyverse: df %\u003e% select_if(is.numeric) %\u003e% map_dbl(mean, na.rm \u003d TRUE)",
      "metadata": {
        "pycharm": {
          "metadata": false,
          "name": "#%%\n"
        }
      }
    },
    {
      "cell_type": "code",
      "execution_count": null,
      "outputs": [],
      "source": "%matplotlib inline\nimport seaborn as sns\nimport matplotlib.pyplot as plt\nsns.pairplot(df[[\"A\", \"B\", \"C\"]])\nplt.show()\n# R + GGally: df %\u003e% select(A, B, C) %\u003e% ggpairs()",
      "metadata": {
        "pycharm": {
          "metadata": false,
          "name": "#%%\n"
        }
      }
    },
    {
      "cell_type": "markdown",
      "source": "## Pandas vs. Tidyr\n\n| **pandas** | **tidyr** |\n| :---: | :---: |\n| melt |\tgather |\n| pivot |\tspread |\n\n## Pandas vs. Dplyr\n| **pandas** | **dplyr** |\n| :---: | :---: |\n| mutate |\tassign |\n| select |\tfilter |\n| rename |\trename |\n| filter |\tquery |\n| arrange |\tsort_values |\n| group_by |\tgroupby |\n| summarize |\tagg \n",
      "metadata": {
        "pycharm": {
          "metadata": false
        }
      }
    },
    {
      "cell_type": "markdown",
      "source": "## Panda read data from Kaggle by using Kaggle\u0027s API\n[GitHub reference](https://github.com/kaggle/kaggle-api)\n\nIt is required the package `kaggle`\n        #%%bash\n        pip install kaggle --upgrade",
      "metadata": {
        "pycharm": {
          "metadata": false
        }
      }
    },
    {
      "cell_type": "markdown",
      "source": "Then it is required to **\u0027Create API Token\u0027** from the \nKraggle Account.\n\nThis will trigger the download of `kaggle.json`, \na file containing your API credentials. \n\nPlace this file in the location `~/.kaggle/kaggle.json`",
      "metadata": {
        "pycharm": {
          "metadata": false
        }
      }
    },
    {
      "cell_type": "code",
      "execution_count": null,
      "outputs": [],
      "source": "import kaggle\nimport pandas as pd\nkaggle.api.authenticate()\nkaggle.api.dataset_download_files(\u0027toramky/automobile-dataset\u0027, unzip\u003dTrue)\ncar_data \u003d pd.read_csv(\"Automobile_data.csv\")",
      "metadata": {
        "pycharm": {
          "metadata": false,
          "name": "#%%\n"
        }
      }
    },
    {
      "cell_type": "markdown",
      "source": "## Panda read data from url ",
      "metadata": {
        "pycharm": {
          "metadata": false
        }
      }
    },
    {
      "cell_type": "code",
      "execution_count": null,
      "outputs": [],
      "source": "import pandas as pd\nimport io\nimport requests as rq\n\nurl\u003d\"https://think.cs.vt.edu/corgis/csv/cars/cars.csv?forcedownload\u003d1\"\ndf\u003dpd.read_csv((io.StringIO(rq.get(url).content.decode(\u0027utf-8\u0027))))",
      "metadata": {
        "pycharm": {
          "metadata": false,
          "name": "#%%\n"
        }
      }
    },
    {
      "cell_type": "markdown",
      "source": "we start by visualizing the variables, the number of observations and some of them",
      "metadata": {
        "pycharm": {
          "metadata": false
        }
      }
    },
    {
      "cell_type": "code",
      "execution_count": null,
      "outputs": [],
      "source": "from IPython.core.display import display, HTML\n\nprint(df.columns)\ndisplay(HTML(\u0027\u003cdiv\u003eNumber of observation: \u003cfont style\u003d\"color: yellow;\"\u003e%d\u003c/span\u003e\u003c/font\u003e\u0027 % len(df)))\ndf.head(2)",
      "metadata": {
        "pycharm": {
          "metadata": false,
          "name": "#%% \n"
        }
      }
    },
    {
      "cell_type": "code",
      "execution_count": null,
      "outputs": [],
      "source": "df[\u0027Model Year\u0027].unique()[:5]",
      "metadata": {
        "pycharm": {
          "metadata": false,
          "name": "#%%\n"
        }
      }
    },
    {
      "cell_type": "markdown",
      "source": "Let us define a function to extract the _car model_ from the column `Model Year`",
      "metadata": {
        "pycharm": {
          "metadata": false
        }
      }
    },
    {
      "cell_type": "code",
      "execution_count": null,
      "outputs": [],
      "source": "def reduce_model_year(my,y):\n    return my.replace(str(y),\u0027\u0027);",
      "metadata": {
        "pycharm": {
          "metadata": false,
          "name": "#%%\n"
        }
      }
    },
    {
      "cell_type": "markdown",
      "source": "The we use the `DataFrame` method `apply` to crate the new column `model`",
      "metadata": {
        "pycharm": {
          "metadata": false
        }
      }
    },
    {
      "cell_type": "code",
      "execution_count": null,
      "outputs": [],
      "source": "if \u0027model\u0027 in df.columns:       # if the column `model` has been created before\n    df.drop(\u0027model\u0027, axis\u003d1)    # drop it\ndf[\u0027model\u0027] \u003d df.apply(lambda x: reduce_model_year(x[\u0027Model Year\u0027], x[\u0027Year\u0027]), axis\u003d1)\ndf.filter(items\u003d[\u0027Model Year\u0027, \u0027model\u0027]).head(3)",
      "metadata": {
        "pycharm": {
          "metadata": false,
          "name": "#%%\n"
        }
      }
    },
    {
      "cell_type": "markdown",
      "source": "An alternative way to make this would be by using the `assign` method together with the `numpy.vectorize`\nfunction that is used to vectoring the function `reduce_model_year`",
      "metadata": {
        "pycharm": {
          "metadata": false
        }
      }
    },
    {
      "cell_type": "code",
      "execution_count": null,
      "outputs": [],
      "source": "import numpy as np\nif \u0027model\u0027 in df.columns:       # if the column `model` has been created before\n    df.drop(\u0027model\u0027, axis\u003d1)    # drop it\ndf \u003d df.assign(model\u003dlambda x: np.vectorize(reduce_model_year)(x[\u0027Model Year\u0027], x[\u0027Year\u0027]), axis\u003d1)\ndf[[\u0027Model Year\u0027, \u0027model\u0027]].head(3) # other way to make a filter",
      "metadata": {
        "pycharm": {
          "metadata": false,
          "name": "#%%\n"
        }
      }
    },
    {
      "cell_type": "markdown",
      "source": "Let us count the number of lines containing `NaNs`value",
      "metadata": {
        "pycharm": {
          "metadata": false
        }
      }
    },
    {
      "cell_type": "code",
      "execution_count": null,
      "outputs": [],
      "source": "len(df) - df.count()",
      "metadata": {
        "pycharm": {
          "metadata": false,
          "name": "#%%\n"
        }
      }
    },
    {
      "cell_type": "markdown",
      "source": "### Using Group-by’s and Merges",
      "metadata": {
        "pycharm": {
          "metadata": false
        }
      }
    },
    {
      "cell_type": "code",
      "execution_count": null,
      "outputs": [],
      "source": "group_by_model \u003d df.groupby(by\u003d df[\u0027model\u0027])",
      "metadata": {
        "pycharm": {
          "metadata": false,
          "name": "#%%\n"
        }
      }
    },
    {
      "cell_type": "code",
      "execution_count": null,
      "outputs": [],
      "source": "df_count \u003d (group_by_model \n .agg({\u0027ID\u0027:\u0027count\u0027, \u0027Model Year\u0027:\u0027first\u0027})\n .rename(columns\u003d{\u0027ID\u0027:\u0027Count\u0027}))\ndf_count.head()",
      "metadata": {
        "pycharm": {
          "metadata": false,
          "name": "#%%\n"
        }
      }
    },
    {
      "cell_type": "code",
      "execution_count": null,
      "outputs": [],
      "source": "df_mean \u003d group_by_model.mean()\ndf_mean.head()",
      "metadata": {
        "pycharm": {
          "metadata": false,
          "name": "#%%\n"
        }
      }
    },
    {
      "cell_type": "code",
      "execution_count": null,
      "outputs": [],
      "source": "df_merge \u003d df_mean.merge(df_count, left_index\u003dTrue, right_index\u003dTrue, suffixes\u003d[\u0027_avg\u0027,\u0027_count\u0027])",
      "metadata": {
        "pycharm": {
          "metadata": false,
          "name": "#%%\n"
        }
      }
    },
    {
      "cell_type": "code",
      "execution_count": null,
      "outputs": [],
      "source": "df_merge[[\u0027City mpg\u0027, \u0027Count\u0027]].sort_values(by\u003d[\u0027Count\u0027,\u0027City mpg\u0027], ascending\u003dFalse).head(5).plot(kind\u003d\u0027barh\u0027)",
      "metadata": {
        "pycharm": {
          "metadata": false,
          "name": "#%%\n"
        }
      }
    }
  ],
  "metadata": {
    "kernelspec": {
      "display_name": "Python 2",
      "language": "python",
      "name": "python2"
    },
    "language_info": {
      "codemirror_mode": {
        "name": "ipython",
        "version": 2
      },
      "file_extension": ".py",
      "mimetype": "text/x-python",
      "name": "python",
      "nbconvert_exporter": "python",
      "pygments_lexer": "ipython2",
      "version": "2.7.12"
    },
    "stem_cell": {
      "cell_type": "raw",
      "source": "",
      "metadata": {
        "pycharm": {
          "metadata": false
        }
      }
    }
  },
  "nbformat": 4,
  "nbformat_minor": 2
}