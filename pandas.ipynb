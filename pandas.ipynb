{
  "cells": [
    {
      "cell_type": "markdown",
      "source": "# Python - Pandas \n\n- Selecting and subsetting data  \n- Data types  \n- Data manipulation and processing techniques  \n",
      "metadata": {
        "pycharm": {
          "metadata": false
        }
      },
      "execution_count": 8
    },
    {
      "cell_type": "markdown",
      "source": "## Series and DataFrames",
      "metadata": {
        "pycharm": {
          "metadata": false,
          "name": "#%% md\n"
        }
      }
    },
    {
      "cell_type": "code",
      "execution_count": 1,
      "outputs": [],
      "source": "import numpy as np\nimport pandas as pd",
      "metadata": {
        "pycharm": {
          "metadata": false,
          "name": "#%%\n"
        }
      }
    },
    {
      "cell_type": "markdown",
      "source": "- Series",
      "metadata": {
        "pycharm": {
          "metadata": false,
          "name": "#%% md\n"
        }
      }
    },
    {
      "cell_type": "code",
      "execution_count": 2,
      "outputs": [
        {
          "data": {
            "text/plain": "0    1.0\n1    3.0\n2    5.0\n3    NaN\n4    6.0\n5    8.0\ndtype: float64"
          },
          "metadata": {},
          "output_type": "execute_result",
          "execution_count": 2
        }
      ],
      "source": "s \u003d pd.Series([1, 3, 5, np.nan, 6, 8])\ns",
      "metadata": {
        "pycharm": {
          "metadata": false,
          "name": "#%%\n"
        }
      }
    },
    {
      "cell_type": "markdown",
      "source": "- DataFrames # Very similar to R dataframes",
      "metadata": {
        "pycharm": {
          "metadata": false,
          "name": "#%% md\n"
        }
      }
    },
    {
      "cell_type": "code",
      "execution_count": 3,
      "outputs": [
        {
          "data": {
            "text/plain": "DatetimeIndex([\u00272013-01-01\u0027, \u00272013-01-02\u0027, \u00272013-01-03\u0027, \u00272013-01-04\u0027,\n               \u00272013-01-05\u0027, \u00272013-01-06\u0027],\n              dtype\u003d\u0027datetime64[ns]\u0027, freq\u003d\u0027D\u0027)"
          },
          "metadata": {},
          "output_type": "execute_result",
          "execution_count": 3
        }
      ],
      "source": "import pandas as pd\ndates \u003d pd.date_range(\u002720130101\u0027, periods\u003d6) \n# R + lubridate:  dates \u003c- ymd(\"2013-01-01\")+days(0:5)\ndates",
      "metadata": {
        "pycharm": {
          "metadata": false,
          "name": "#%%\n"
        }
      }
    },
    {
      "cell_type": "code",
      "execution_count": 4,
      "outputs": [
        {
          "data": {
            "text/plain": "                   A         B         C         D\n2013-01-01 -0.337876 -1.133784  0.489609 -0.710291\n2013-01-02  0.361925  0.615689 -1.326005 -0.538592\n2013-01-03  0.389151  0.525299 -0.127917 -0.570661\n2013-01-04 -0.166400  0.124358 -0.429019  0.459688\n2013-01-05  1.378717  0.194365  1.784033  0.591172\n2013-01-06 -1.322239 -1.297773 -1.081477 -0.760970",
            "text/html": "\u003cdiv\u003e\n\u003cstyle scoped\u003e\n    .dataframe tbody tr th:only-of-type {\n        vertical-align: middle;\n    }\n\n    .dataframe tbody tr th {\n        vertical-align: top;\n    }\n\n    .dataframe thead th {\n        text-align: right;\n    }\n\u003c/style\u003e\n\u003ctable border\u003d\"1\" class\u003d\"dataframe\"\u003e\n  \u003cthead\u003e\n    \u003ctr style\u003d\"text-align: right;\"\u003e\n      \u003cth\u003e\u003c/th\u003e\n      \u003cth\u003eA\u003c/th\u003e\n      \u003cth\u003eB\u003c/th\u003e\n      \u003cth\u003eC\u003c/th\u003e\n      \u003cth\u003eD\u003c/th\u003e\n    \u003c/tr\u003e\n  \u003c/thead\u003e\n  \u003ctbody\u003e\n    \u003ctr\u003e\n      \u003cth\u003e2013-01-01\u003c/th\u003e\n      \u003ctd\u003e-0.337876\u003c/td\u003e\n      \u003ctd\u003e-1.133784\u003c/td\u003e\n      \u003ctd\u003e0.489609\u003c/td\u003e\n      \u003ctd\u003e-0.710291\u003c/td\u003e\n    \u003c/tr\u003e\n    \u003ctr\u003e\n      \u003cth\u003e2013-01-02\u003c/th\u003e\n      \u003ctd\u003e0.361925\u003c/td\u003e\n      \u003ctd\u003e0.615689\u003c/td\u003e\n      \u003ctd\u003e-1.326005\u003c/td\u003e\n      \u003ctd\u003e-0.538592\u003c/td\u003e\n    \u003c/tr\u003e\n    \u003ctr\u003e\n      \u003cth\u003e2013-01-03\u003c/th\u003e\n      \u003ctd\u003e0.389151\u003c/td\u003e\n      \u003ctd\u003e0.525299\u003c/td\u003e\n      \u003ctd\u003e-0.127917\u003c/td\u003e\n      \u003ctd\u003e-0.570661\u003c/td\u003e\n    \u003c/tr\u003e\n    \u003ctr\u003e\n      \u003cth\u003e2013-01-04\u003c/th\u003e\n      \u003ctd\u003e-0.166400\u003c/td\u003e\n      \u003ctd\u003e0.124358\u003c/td\u003e\n      \u003ctd\u003e-0.429019\u003c/td\u003e\n      \u003ctd\u003e0.459688\u003c/td\u003e\n    \u003c/tr\u003e\n    \u003ctr\u003e\n      \u003cth\u003e2013-01-05\u003c/th\u003e\n      \u003ctd\u003e1.378717\u003c/td\u003e\n      \u003ctd\u003e0.194365\u003c/td\u003e\n      \u003ctd\u003e1.784033\u003c/td\u003e\n      \u003ctd\u003e0.591172\u003c/td\u003e\n    \u003c/tr\u003e\n    \u003ctr\u003e\n      \u003cth\u003e2013-01-06\u003c/th\u003e\n      \u003ctd\u003e-1.322239\u003c/td\u003e\n      \u003ctd\u003e-1.297773\u003c/td\u003e\n      \u003ctd\u003e-1.081477\u003c/td\u003e\n      \u003ctd\u003e-0.760970\u003c/td\u003e\n    \u003c/tr\u003e\n  \u003c/tbody\u003e\n\u003c/table\u003e\n\u003c/div\u003e"
          },
          "metadata": {},
          "output_type": "execute_result",
          "execution_count": 4
        }
      ],
      "source": "df \u003d pd.DataFrame(np.random.randn(6, 4), index\u003ddates, columns\u003dlist(\u0027ABCD\u0027))\n# R + tidyverse: \n# m \u003c- matrix(rnorm(6*4), ncol \u003d 4)\n# colnames(m) \u003c- c(\"A\", \"B\", \"C\", \"D\")\n# df \u003c- as_tibble(m) %\u003e% mutate(dates)\ndf",
      "metadata": {
        "pycharm": {
          "metadata": false,
          "name": "#%%\n"
        }
      }
    },
    {
      "cell_type": "markdown",
      "source": "## Pandas vs. R",
      "metadata": {
        "pycharm": {
          "metadata": false,
          "name": "#%% md\n"
        }
      }
    },
    {
      "cell_type": "code",
      "execution_count": 5,
      "outputs": [
        {
          "data": {
            "text/plain": "(6, 4)"
          },
          "metadata": {},
          "output_type": "execute_result",
          "execution_count": 5
        }
      ],
      "source": "df.shape # R: dim(df)",
      "metadata": {
        "pycharm": {
          "metadata": false,
          "name": "#%%\n"
        }
      }
    },
    {
      "cell_type": "code",
      "execution_count": 6,
      "outputs": [
        {
          "data": {
            "text/plain": "                   A         B         C         D\n2013-01-01 -0.337876 -1.133784  0.489609 -0.710291\n2013-01-02  0.361925  0.615689 -1.326005 -0.538592\n2013-01-03  0.389151  0.525299 -0.127917 -0.570661",
            "text/html": "\u003cdiv\u003e\n\u003cstyle scoped\u003e\n    .dataframe tbody tr th:only-of-type {\n        vertical-align: middle;\n    }\n\n    .dataframe tbody tr th {\n        vertical-align: top;\n    }\n\n    .dataframe thead th {\n        text-align: right;\n    }\n\u003c/style\u003e\n\u003ctable border\u003d\"1\" class\u003d\"dataframe\"\u003e\n  \u003cthead\u003e\n    \u003ctr style\u003d\"text-align: right;\"\u003e\n      \u003cth\u003e\u003c/th\u003e\n      \u003cth\u003eA\u003c/th\u003e\n      \u003cth\u003eB\u003c/th\u003e\n      \u003cth\u003eC\u003c/th\u003e\n      \u003cth\u003eD\u003c/th\u003e\n    \u003c/tr\u003e\n  \u003c/thead\u003e\n  \u003ctbody\u003e\n    \u003ctr\u003e\n      \u003cth\u003e2013-01-01\u003c/th\u003e\n      \u003ctd\u003e-0.337876\u003c/td\u003e\n      \u003ctd\u003e-1.133784\u003c/td\u003e\n      \u003ctd\u003e0.489609\u003c/td\u003e\n      \u003ctd\u003e-0.710291\u003c/td\u003e\n    \u003c/tr\u003e\n    \u003ctr\u003e\n      \u003cth\u003e2013-01-02\u003c/th\u003e\n      \u003ctd\u003e0.361925\u003c/td\u003e\n      \u003ctd\u003e0.615689\u003c/td\u003e\n      \u003ctd\u003e-1.326005\u003c/td\u003e\n      \u003ctd\u003e-0.538592\u003c/td\u003e\n    \u003c/tr\u003e\n    \u003ctr\u003e\n      \u003cth\u003e2013-01-03\u003c/th\u003e\n      \u003ctd\u003e0.389151\u003c/td\u003e\n      \u003ctd\u003e0.525299\u003c/td\u003e\n      \u003ctd\u003e-0.127917\u003c/td\u003e\n      \u003ctd\u003e-0.570661\u003c/td\u003e\n    \u003c/tr\u003e\n  \u003c/tbody\u003e\n\u003c/table\u003e\n\u003c/div\u003e"
          },
          "metadata": {},
          "output_type": "execute_result",
          "execution_count": 6
        }
      ],
      "source": "df.head(3) # R: head(df, 3)",
      "metadata": {
        "pycharm": {
          "metadata": false,
          "name": "#%%\n"
        }
      }
    },
    {
      "cell_type": "code",
      "execution_count": 7,
      "outputs": [
        {
          "data": {
            "text/plain": "A    0.050546\nB   -0.161974\nC   -0.115129\nD   -0.254942\ndtype: float64"
          },
          "metadata": {},
          "output_type": "execute_result",
          "execution_count": 7
        }
      ],
      "source": "df.mean()\n# R + tidyverse: df %\u003e% select_if(is.numeric) %\u003e% map_dbl(mean, na.rm \u003d TRUE)",
      "metadata": {
        "pycharm": {
          "metadata": false,
          "name": "#%%\n"
        }
      }
    },
    {
      "cell_type": "code",
      "execution_count": 8,
      "outputs": [
        {
          "data": {
            "text/plain": "\u003cFigure size 540x540 with 12 Axes\u003e",
            "image/png": "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\u003d\n"
          },
          "metadata": {
            "needs_background": "light"
          },
          "output_type": "display_data"
        }
      ],
      "source": "%matplotlib inline\nimport seaborn as sns\nimport matplotlib.pyplot as plt\nsns.pairplot(df[[\"A\", \"B\", \"C\"]])\nplt.show()\n# R + GGally: df %\u003e% select(A, B, C) %\u003e% ggpairs()",
      "metadata": {
        "pycharm": {
          "metadata": false,
          "name": "#%%\n"
        }
      }
    },
    {
      "cell_type": "markdown",
      "source": "## Pandas vs. Tidyr\n\n| **pandas** | **tidyr** |\n| :---: | :---: |\n| melt |\tgather |\n| pivot |\tspread |\n\n## Pandas vs. Dplyr\n| **pandas** | **dplyr** |\n| :---: | :---: |\n| mutate |\tassign |\n| select |\tfilter |\n| rename |\trename |\n| filter |\tquery |\n| arrange |\tsort_values |\n| group_by |\tgroupby |\n| summarize |\tagg |",
      "metadata": {
        "pycharm": {
          "metadata": false,
          "name": "#%% md\n"
        }
      }
    }
  ],
  "metadata": {
    "kernelspec": {
      "display_name": "Python 2",
      "language": "python",
      "name": "python2"
    },
    "language_info": {
      "codemirror_mode": {
        "name": "ipython",
        "version": 2
      },
      "file_extension": ".py",
      "mimetype": "text/x-python",
      "name": "python",
      "nbconvert_exporter": "python",
      "pygments_lexer": "ipython2",
      "version": "2.7.12"
    },
    "stem_cell": {
      "cell_type": "raw",
      "source": "",
      "metadata": {
        "pycharm": {
          "metadata": false
        }
      }
    }
  },
  "nbformat": 4,
  "nbformat_minor": 2
}