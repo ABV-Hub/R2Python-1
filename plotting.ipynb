{
 "cells": [
  {
   "cell_type": "markdown",
   "metadata": {
    "pycharm": {
     "metadata": false
    }
   },
   "source": [
    "# Plotting - matplotlib\n",
    "%matplotlib inline\n",
    "\n",
    "We follow [Geo-Python](https://geo-python.github.io/2017/lessons/L7/pandas-plotting.html#parsing-datetime-when-reading-data)\n",
    "from University of Helsinki"
   ]
  },
  {
   "cell_type": "code",
   "execution_count": 1,
   "metadata": {
    "pycharm": {
     "metadata": false,
     "name": "#%%\n"
    }
   },
   "outputs": [
    {
     "name": "stdout",
     "output_type": "stream",
     "text": [
      "  USAF  WBAN YR--MODAHRMN DIR SPD GUS CLG SKC L M H  VSB MW MW MW MW AW AW AW AW W TEMP DEWP    SLP   ALT    STP MAX MIN PCP01 PCP06 PCP24 PCPXX SD\n",
      "\n",
      "029750 99999 201201010050 280   3 ***  89 BKN * * *  7.0 ** ** ** ** ** ** ** ** *   28   25 ****** 29.74 ****** *** *** ***** ***** ***** ***** ** \n",
      "\n",
      "029750 99999 201201010150 310   3 ***  89 OVC * * *  7.0 ** ** ** ** ** ** ** ** *   27   25 ****** 29.77 ****** *** *** ***** ***** ***** ***** ** \n",
      "\n"
     ]
    }
   ],
   "source": [
    "import pandas as pd\n",
    "import matplotlib.pyplot as plt\n",
    "import numpy as np\n",
    "import io\n",
    "import requests as rq\n",
    "\n",
    "url = \"https://geo-python.github.io/2017/_static/data/L7/1924927457196dat.txt\"\n",
    "text = io.StringIO(rq.get(url).content.decode('utf-8'))\n",
    "\n",
    "for x in range(0, 3):\n",
    "    print(text.readline())"
   ]
  },
  {
   "cell_type": "code",
   "execution_count": 2,
   "metadata": {
    "pycharm": {
     "metadata": false,
     "name": "#%%\n"
    }
   },
   "outputs": [
    {
     "data": {
      "text/html": [
       "<div>\n",
       "<style scoped>\n",
       "    .dataframe tbody tr th:only-of-type {\n",
       "        vertical-align: middle;\n",
       "    }\n",
       "\n",
       "    .dataframe tbody tr th {\n",
       "        vertical-align: top;\n",
       "    }\n",
       "\n",
       "    .dataframe thead th {\n",
       "        text-align: right;\n",
       "    }\n",
       "</style>\n",
       "<table border=\"1\" class=\"dataframe\">\n",
       "  <thead>\n",
       "    <tr style=\"text-align: right;\">\n",
       "      <th></th>\n",
       "      <th>USAF</th>\n",
       "      <th>WBAN</th>\n",
       "      <th>YR--MODAHRMN</th>\n",
       "      <th>DIR</th>\n",
       "      <th>SPD</th>\n",
       "      <th>GUS</th>\n",
       "      <th>CLG</th>\n",
       "      <th>SKC</th>\n",
       "      <th>L</th>\n",
       "      <th>M</th>\n",
       "      <th>...</th>\n",
       "      <th>SLP</th>\n",
       "      <th>ALT</th>\n",
       "      <th>STP</th>\n",
       "      <th>MAX</th>\n",
       "      <th>MIN</th>\n",
       "      <th>PCP01</th>\n",
       "      <th>PCP06</th>\n",
       "      <th>PCP24</th>\n",
       "      <th>PCPXX</th>\n",
       "      <th>SD</th>\n",
       "    </tr>\n",
       "  </thead>\n",
       "  <tbody>\n",
       "    <tr>\n",
       "      <th>0</th>\n",
       "      <td>29750</td>\n",
       "      <td>99999</td>\n",
       "      <td>2012-01-01 00:50:00</td>\n",
       "      <td>280.0</td>\n",
       "      <td>3</td>\n",
       "      <td>NaN</td>\n",
       "      <td>89.0</td>\n",
       "      <td>BKN</td>\n",
       "      <td>NaN</td>\n",
       "      <td>NaN</td>\n",
       "      <td>...</td>\n",
       "      <td>NaN</td>\n",
       "      <td>29.74</td>\n",
       "      <td>NaN</td>\n",
       "      <td>NaN</td>\n",
       "      <td>NaN</td>\n",
       "      <td>NaN</td>\n",
       "      <td>NaN</td>\n",
       "      <td>NaN</td>\n",
       "      <td>NaN</td>\n",
       "      <td>NaN</td>\n",
       "    </tr>\n",
       "    <tr>\n",
       "      <th>1</th>\n",
       "      <td>29750</td>\n",
       "      <td>99999</td>\n",
       "      <td>2012-01-01 01:50:00</td>\n",
       "      <td>310.0</td>\n",
       "      <td>3</td>\n",
       "      <td>NaN</td>\n",
       "      <td>89.0</td>\n",
       "      <td>OVC</td>\n",
       "      <td>NaN</td>\n",
       "      <td>NaN</td>\n",
       "      <td>...</td>\n",
       "      <td>NaN</td>\n",
       "      <td>29.77</td>\n",
       "      <td>NaN</td>\n",
       "      <td>NaN</td>\n",
       "      <td>NaN</td>\n",
       "      <td>NaN</td>\n",
       "      <td>NaN</td>\n",
       "      <td>NaN</td>\n",
       "      <td>NaN</td>\n",
       "      <td>NaN</td>\n",
       "    </tr>\n",
       "    <tr>\n",
       "      <th>2</th>\n",
       "      <td>29750</td>\n",
       "      <td>99999</td>\n",
       "      <td>2012-01-01 02:50:00</td>\n",
       "      <td>280.0</td>\n",
       "      <td>1</td>\n",
       "      <td>NaN</td>\n",
       "      <td>NaN</td>\n",
       "      <td>NaN</td>\n",
       "      <td>NaN</td>\n",
       "      <td>NaN</td>\n",
       "      <td>...</td>\n",
       "      <td>NaN</td>\n",
       "      <td>29.77</td>\n",
       "      <td>NaN</td>\n",
       "      <td>NaN</td>\n",
       "      <td>NaN</td>\n",
       "      <td>NaN</td>\n",
       "      <td>NaN</td>\n",
       "      <td>NaN</td>\n",
       "      <td>NaN</td>\n",
       "      <td>NaN</td>\n",
       "    </tr>\n",
       "  </tbody>\n",
       "</table>\n",
       "<p>3 rows × 33 columns</p>\n",
       "</div>"
      ],
      "text/plain": [
       "    USAF   WBAN        YR--MODAHRMN    DIR  SPD  GUS   CLG  SKC   L   M  ...  \\\n",
       "0  29750  99999 2012-01-01 00:50:00  280.0    3  NaN  89.0  BKN NaN NaN  ...   \n",
       "1  29750  99999 2012-01-01 01:50:00  310.0    3  NaN  89.0  OVC NaN NaN  ...   \n",
       "2  29750  99999 2012-01-01 02:50:00  280.0    1  NaN   NaN  NaN NaN NaN  ...   \n",
       "\n",
       "   SLP    ALT  STP  MAX  MIN  PCP01  PCP06  PCP24  PCPXX  SD  \n",
       "0  NaN  29.74  NaN  NaN  NaN    NaN    NaN    NaN    NaN NaN  \n",
       "1  NaN  29.77  NaN  NaN  NaN    NaN    NaN    NaN    NaN NaN  \n",
       "2  NaN  29.77  NaN  NaN  NaN    NaN    NaN    NaN    NaN NaN  \n",
       "\n",
       "[3 rows x 33 columns]"
      ]
     },
     "execution_count": 2,
     "metadata": {},
     "output_type": "execute_result"
    }
   ],
   "source": [
    "data = pd.read_csv((io.StringIO(rq.get(url).content.decode('utf-8'))), \n",
    "                 sep='\\s+', parse_dates=['YR--MODAHRMN'], \n",
    "                 na_values=['*', '**', '***', '****', '*****', '******'])\n",
    "data.head(3)"
   ]
  },
  {
   "cell_type": "code",
   "execution_count": 3,
   "metadata": {
    "pycharm": {
     "metadata": false,
     "name": "#%%\n"
    }
   },
   "outputs": [
    {
     "data": {
      "text/html": [
       "<div>\n",
       "<style scoped>\n",
       "    .dataframe tbody tr th:only-of-type {\n",
       "        vertical-align: middle;\n",
       "    }\n",
       "\n",
       "    .dataframe tbody tr th {\n",
       "        vertical-align: top;\n",
       "    }\n",
       "\n",
       "    .dataframe thead th {\n",
       "        text-align: right;\n",
       "    }\n",
       "</style>\n",
       "<table border=\"1\" class=\"dataframe\">\n",
       "  <thead>\n",
       "    <tr style=\"text-align: right;\">\n",
       "      <th></th>\n",
       "      <th>TIME</th>\n",
       "      <th>TEMP</th>\n",
       "      <th>SPEED</th>\n",
       "      <th>Celsius</th>\n",
       "    </tr>\n",
       "  </thead>\n",
       "  <tbody>\n",
       "    <tr>\n",
       "      <th>0</th>\n",
       "      <td>2012-01-01 00:50:00</td>\n",
       "      <td>28.0</td>\n",
       "      <td>3</td>\n",
       "      <td>-2.222222</td>\n",
       "    </tr>\n",
       "    <tr>\n",
       "      <th>1</th>\n",
       "      <td>2012-01-01 01:50:00</td>\n",
       "      <td>27.0</td>\n",
       "      <td>3</td>\n",
       "      <td>-2.777778</td>\n",
       "    </tr>\n",
       "    <tr>\n",
       "      <th>2</th>\n",
       "      <td>2012-01-01 02:50:00</td>\n",
       "      <td>25.0</td>\n",
       "      <td>1</td>\n",
       "      <td>-3.888889</td>\n",
       "    </tr>\n",
       "  </tbody>\n",
       "</table>\n",
       "</div>"
      ],
      "text/plain": [
       "                 TIME  TEMP  SPEED   Celsius\n",
       "0 2012-01-01 00:50:00  28.0      3 -2.222222\n",
       "1 2012-01-01 01:50:00  27.0      3 -2.777778\n",
       "2 2012-01-01 02:50:00  25.0      1 -3.888889"
      ]
     },
     "execution_count": 3,
     "metadata": {},
     "output_type": "execute_result"
    }
   ],
   "source": [
    "# Select data\n",
    "selected_cols = ['YR--MODAHRMN', 'TEMP', 'SPD']\n",
    "data = data[selected_cols]\n",
    "\n",
    "# Rename columns\n",
    "name_conversion = {'YR--MODAHRMN': 'TIME', 'SPD': 'SPEED'}\n",
    "data = data.rename(columns=name_conversion)\n",
    "\n",
    "# Convert Fahrenheit temperature into Celsius\n",
    "data['Celsius'] = (data['TEMP'] - 32) / 1.8\n",
    "\n",
    "data.head(3)"
   ]
  },
  {
   "cell_type": "markdown",
   "metadata": {
    "pycharm": {
     "metadata": false
    }
   },
   "source": [
    "## Basic plot in Pandas"
   ]
  },
  {
   "cell_type": "code",
   "execution_count": 4,
   "metadata": {
    "pycharm": {
     "metadata": false,
     "name": "#%%\n"
    }
   },
   "outputs": [
    {
     "data": {
      "image/png": "[encoded data removed]",
      "text/plain": [
       "<Figure size 432x288 with 1 Axes>"
      ]
     },
     "metadata": {
      "needs_background": "light"
     },
     "output_type": "display_data"
    }
   ],
   "source": [
    "data.plot(x='TIME', y='Celsius');"
   ]
  },
  {
   "cell_type": "markdown",
   "metadata": {
    "pycharm": {
     "metadata": false
    }
   },
   "source": [
    "## Selecting data based on time in Pandas"
   ]
  },
  {
   "cell_type": "code",
   "execution_count": 5,
   "metadata": {
    "pycharm": {
     "metadata": false,
     "name": "#%% \n"
    }
   },
   "outputs": [
    {
     "data": {
      "text/html": [
       "<div>\n",
       "<style scoped>\n",
       "    .dataframe tbody tr th:only-of-type {\n",
       "        vertical-align: middle;\n",
       "    }\n",
       "\n",
       "    .dataframe tbody tr th {\n",
       "        vertical-align: top;\n",
       "    }\n",
       "\n",
       "    .dataframe thead th {\n",
       "        text-align: right;\n",
       "    }\n",
       "</style>\n",
       "<table border=\"1\" class=\"dataframe\">\n",
       "  <thead>\n",
       "    <tr style=\"text-align: right;\">\n",
       "      <th></th>\n",
       "      <th>TEMP</th>\n",
       "      <th>SPEED</th>\n",
       "      <th>Celsius</th>\n",
       "    </tr>\n",
       "    <tr>\n",
       "      <th>TIME</th>\n",
       "      <th></th>\n",
       "      <th></th>\n",
       "      <th></th>\n",
       "    </tr>\n",
       "  </thead>\n",
       "  <tbody>\n",
       "    <tr>\n",
       "      <th>2012-01-01 00:50:00</th>\n",
       "      <td>28.0</td>\n",
       "      <td>3</td>\n",
       "      <td>-2.222222</td>\n",
       "    </tr>\n",
       "    <tr>\n",
       "      <th>2012-01-01 01:50:00</th>\n",
       "      <td>27.0</td>\n",
       "      <td>3</td>\n",
       "      <td>-2.777778</td>\n",
       "    </tr>\n",
       "    <tr>\n",
       "      <th>2012-01-01 02:50:00</th>\n",
       "      <td>25.0</td>\n",
       "      <td>1</td>\n",
       "      <td>-3.888889</td>\n",
       "    </tr>\n",
       "  </tbody>\n",
       "</table>\n",
       "</div>"
      ],
      "text/plain": [
       "                     TEMP  SPEED   Celsius\n",
       "TIME                                      \n",
       "2012-01-01 00:50:00  28.0      3 -2.222222\n",
       "2012-01-01 01:50:00  27.0      3 -2.777778\n",
       "2012-01-01 02:50:00  25.0      1 -3.888889"
      ]
     },
     "execution_count": 5,
     "metadata": {},
     "output_type": "execute_result"
    }
   ],
   "source": [
    "data = data.set_index('TIME')\n",
    "data.head(3)"
   ]
  },
  {
   "cell_type": "markdown",
   "metadata": {
    "pycharm": {
     "metadata": false
    }
   },
   "source": [
    "We select only the observation on January first"
   ]
  },
  {
   "cell_type": "code",
   "execution_count": 6,
   "metadata": {
    "pycharm": {
     "metadata": false,
     "name": "#%%\n"
    }
   },
   "outputs": [
    {
     "data": {
      "text/html": [
       "<div>\n",
       "<style scoped>\n",
       "    .dataframe tbody tr th:only-of-type {\n",
       "        vertical-align: middle;\n",
       "    }\n",
       "\n",
       "    .dataframe tbody tr th {\n",
       "        vertical-align: top;\n",
       "    }\n",
       "\n",
       "    .dataframe thead th {\n",
       "        text-align: right;\n",
       "    }\n",
       "</style>\n",
       "<table border=\"1\" class=\"dataframe\">\n",
       "  <thead>\n",
       "    <tr style=\"text-align: right;\">\n",
       "      <th></th>\n",
       "      <th>TEMP</th>\n",
       "      <th>SPEED</th>\n",
       "      <th>Celsius</th>\n",
       "    </tr>\n",
       "    <tr>\n",
       "      <th>TIME</th>\n",
       "      <th></th>\n",
       "      <th></th>\n",
       "      <th></th>\n",
       "    </tr>\n",
       "  </thead>\n",
       "  <tbody>\n",
       "    <tr>\n",
       "      <th>2013-01-01 00:50:00</th>\n",
       "      <td>34.0</td>\n",
       "      <td>13</td>\n",
       "      <td>1.111111</td>\n",
       "    </tr>\n",
       "    <tr>\n",
       "      <th>2013-01-01 01:50:00</th>\n",
       "      <td>36.0</td>\n",
       "      <td>10</td>\n",
       "      <td>2.222222</td>\n",
       "    </tr>\n",
       "    <tr>\n",
       "      <th>2013-01-01 02:50:00</th>\n",
       "      <td>36.0</td>\n",
       "      <td>10</td>\n",
       "      <td>2.222222</td>\n",
       "    </tr>\n",
       "  </tbody>\n",
       "</table>\n",
       "</div>"
      ],
      "text/plain": [
       "                     TEMP  SPEED   Celsius\n",
       "TIME                                      \n",
       "2013-01-01 00:50:00  34.0     13  1.111111\n",
       "2013-01-01 01:50:00  36.0     10  2.222222\n",
       "2013-01-01 02:50:00  36.0     10  2.222222"
      ]
     },
     "execution_count": 6,
     "metadata": {},
     "output_type": "execute_result"
    }
   ],
   "source": [
    "first_jan = data['2013-01-01': '2013-01-01']\n",
    "first_jan.head(3)"
   ]
  },
  {
   "cell_type": "markdown",
   "metadata": {
    "pycharm": {
     "metadata": false
    }
   },
   "source": [
    "We can be more selective by denoting also the hour"
   ]
  },
  {
   "cell_type": "code",
   "execution_count": 7,
   "metadata": {
    "pycharm": {
     "metadata": false,
     "name": "#%%\n"
    }
   },
   "outputs": [
    {
     "data": {
      "text/html": [
       "<div>\n",
       "<style scoped>\n",
       "    .dataframe tbody tr th:only-of-type {\n",
       "        vertical-align: middle;\n",
       "    }\n",
       "\n",
       "    .dataframe tbody tr th {\n",
       "        vertical-align: top;\n",
       "    }\n",
       "\n",
       "    .dataframe thead th {\n",
       "        text-align: right;\n",
       "    }\n",
       "</style>\n",
       "<table border=\"1\" class=\"dataframe\">\n",
       "  <thead>\n",
       "    <tr style=\"text-align: right;\">\n",
       "      <th></th>\n",
       "      <th>TEMP</th>\n",
       "      <th>SPEED</th>\n",
       "      <th>Celsius</th>\n",
       "    </tr>\n",
       "    <tr>\n",
       "      <th>TIME</th>\n",
       "      <th></th>\n",
       "      <th></th>\n",
       "      <th></th>\n",
       "    </tr>\n",
       "  </thead>\n",
       "  <tbody>\n",
       "    <tr>\n",
       "      <th>2013-01-01 12:50:00</th>\n",
       "      <td>37.0</td>\n",
       "      <td>16</td>\n",
       "      <td>2.777778</td>\n",
       "    </tr>\n",
       "    <tr>\n",
       "      <th>2013-01-01 13:50:00</th>\n",
       "      <td>37.0</td>\n",
       "      <td>14</td>\n",
       "      <td>2.777778</td>\n",
       "    </tr>\n",
       "  </tbody>\n",
       "</table>\n",
       "</div>"
      ],
      "text/plain": [
       "                     TEMP  SPEED   Celsius\n",
       "TIME                                      \n",
       "2013-01-01 12:50:00  37.0     16  2.777778\n",
       "2013-01-01 13:50:00  37.0     14  2.777778"
      ]
     },
     "execution_count": 7,
     "metadata": {},
     "output_type": "execute_result"
    }
   ],
   "source": [
    "first_jan_12h_to_14th = data['2013-01-01 12:00': '2013-01-01 14:00']\n",
    "first_jan_12h_to_14th.head(3)"
   ]
  },
  {
   "cell_type": "markdown",
   "metadata": {
    "pycharm": {
     "metadata": false
    }
   },
   "source": [
    "## Using of `resample()`"
   ]
  },
  {
   "cell_type": "code",
   "execution_count": 8,
   "metadata": {
    "pycharm": {
     "metadata": false,
     "name": "#%% \n"
    }
   },
   "outputs": [
    {
     "data": {
      "text/html": [
       "<div>\n",
       "<style scoped>\n",
       "    .dataframe tbody tr th:only-of-type {\n",
       "        vertical-align: middle;\n",
       "    }\n",
       "\n",
       "    .dataframe tbody tr th {\n",
       "        vertical-align: top;\n",
       "    }\n",
       "\n",
       "    .dataframe thead th {\n",
       "        text-align: right;\n",
       "    }\n",
       "</style>\n",
       "<table border=\"1\" class=\"dataframe\">\n",
       "  <thead>\n",
       "    <tr style=\"text-align: right;\">\n",
       "      <th></th>\n",
       "      <th>TEMP</th>\n",
       "      <th>SPEED</th>\n",
       "      <th>Celsius</th>\n",
       "    </tr>\n",
       "    <tr>\n",
       "      <th>TIME</th>\n",
       "      <th></th>\n",
       "      <th></th>\n",
       "      <th></th>\n",
       "    </tr>\n",
       "  </thead>\n",
       "  <tbody>\n",
       "    <tr>\n",
       "      <th>2012-01-01</th>\n",
       "      <td>25.250000</td>\n",
       "      <td>3.791667</td>\n",
       "      <td>-3.750000</td>\n",
       "    </tr>\n",
       "    <tr>\n",
       "      <th>2012-01-02</th>\n",
       "      <td>33.130435</td>\n",
       "      <td>14.739130</td>\n",
       "      <td>0.628019</td>\n",
       "    </tr>\n",
       "    <tr>\n",
       "      <th>2012-01-03</th>\n",
       "      <td>37.333333</td>\n",
       "      <td>6.333333</td>\n",
       "      <td>2.962963</td>\n",
       "    </tr>\n",
       "    <tr>\n",
       "      <th>2012-01-04</th>\n",
       "      <td>37.041667</td>\n",
       "      <td>16.041667</td>\n",
       "      <td>2.800926</td>\n",
       "    </tr>\n",
       "    <tr>\n",
       "      <th>2012-01-05</th>\n",
       "      <td>36.583333</td>\n",
       "      <td>8.541667</td>\n",
       "      <td>2.546296</td>\n",
       "    </tr>\n",
       "  </tbody>\n",
       "</table>\n",
       "</div>"
      ],
      "text/plain": [
       "                 TEMP      SPEED   Celsius\n",
       "TIME                                      \n",
       "2012-01-01  25.250000   3.791667 -3.750000\n",
       "2012-01-02  33.130435  14.739130  0.628019\n",
       "2012-01-03  37.333333   6.333333  2.962963\n",
       "2012-01-04  37.041667  16.041667  2.800926\n",
       "2012-01-05  36.583333   8.541667  2.546296"
      ]
     },
     "execution_count": 8,
     "metadata": {},
     "output_type": "execute_result"
    }
   ],
   "source": [
    "daily = data.resample(rule='D').mean() # rule='D' stays for daily\n",
    "daily.head()"
   ]
  },
  {
   "cell_type": "code",
   "execution_count": 24,
   "metadata": {
    "pycharm": {
     "metadata": false,
     "name": "#%% \n"
    }
   },
   "outputs": [
    {
     "data": {
      "text/html": [
       "<div>\n",
       "<style scoped>\n",
       "    .dataframe tbody tr th:only-of-type {\n",
       "        vertical-align: middle;\n",
       "    }\n",
       "\n",
       "    .dataframe tbody tr th {\n",
       "        vertical-align: top;\n",
       "    }\n",
       "\n",
       "    .dataframe thead th {\n",
       "        text-align: right;\n",
       "    }\n",
       "</style>\n",
       "<table border=\"1\" class=\"dataframe\">\n",
       "  <thead>\n",
       "    <tr style=\"text-align: right;\">\n",
       "      <th></th>\n",
       "      <th>TEMP</th>\n",
       "      <th>SPEED</th>\n",
       "      <th>Celsius</th>\n",
       "    </tr>\n",
       "    <tr>\n",
       "      <th>TIME</th>\n",
       "      <th></th>\n",
       "      <th></th>\n",
       "      <th></th>\n",
       "    </tr>\n",
       "  </thead>\n",
       "  <tbody>\n",
       "    <tr>\n",
       "      <th>2013-01-01 00:00:00</th>\n",
       "      <td>34.0</td>\n",
       "      <td>13</td>\n",
       "      <td>1.111111</td>\n",
       "    </tr>\n",
       "    <tr>\n",
       "      <th>2013-01-01 01:00:00</th>\n",
       "      <td>36.0</td>\n",
       "      <td>10</td>\n",
       "      <td>2.222222</td>\n",
       "    </tr>\n",
       "    <tr>\n",
       "      <th>2013-01-01 02:00:00</th>\n",
       "      <td>36.0</td>\n",
       "      <td>10</td>\n",
       "      <td>2.222222</td>\n",
       "    </tr>\n",
       "    <tr>\n",
       "      <th>2013-01-01 03:00:00</th>\n",
       "      <td>37.0</td>\n",
       "      <td>11</td>\n",
       "      <td>2.777778</td>\n",
       "    </tr>\n",
       "    <tr>\n",
       "      <th>2013-01-01 04:00:00</th>\n",
       "      <td>37.0</td>\n",
       "      <td>13</td>\n",
       "      <td>2.777778</td>\n",
       "    </tr>\n",
       "  </tbody>\n",
       "</table>\n",
       "</div>"
      ],
      "text/plain": [
       "                     TEMP  SPEED   Celsius\n",
       "TIME                                      \n",
       "2013-01-01 00:00:00  34.0     13  1.111111\n",
       "2013-01-01 01:00:00  36.0     10  2.222222\n",
       "2013-01-01 02:00:00  36.0     10  2.222222\n",
       "2013-01-01 03:00:00  37.0     11  2.777778\n",
       "2013-01-01 04:00:00  37.0     13  2.777778"
      ]
     },
     "execution_count": 24,
     "metadata": {},
     "output_type": "execute_result"
    }
   ],
   "source": [
    "hourly = data['2013-01-01': '2013-01-01'].resample(rule='H').mean() # rule='H' stays for hourly\n",
    "hourly.head()"
   ]
  },
  {
   "cell_type": "markdown",
   "metadata": {
    "pycharm": {
     "metadata": false
    }
   },
   "source": [
    "We can now plot the **daily** data.\n",
    "For more on plots with Pandas see [here](https://pandas.pydata.org/pandas-docs/stable/visualization.html)."
   ]
  },
  {
   "cell_type": "code",
   "execution_count": 9,
   "metadata": {
    "pycharm": {
     "metadata": false,
     "name": "#%%\n"
    }
   },
   "outputs": [
    {
     "data": {
      "image/png": "[encoded data removed]",
      "text/plain": [
       "<Figure size 432x288 with 1 Axes>"
      ]
     },
     "metadata": {
      "needs_background": "light"
     },
     "output_type": "display_data"
    }
   ],
   "source": [
    "fig = daily.plot(y='Celsius', kind='line', lw=0.75, c='y').get_figure();\n",
    "# `c` sets the color\n",
    "# `lw` sets the line width\n",
    "fig.show() "
   ]
  },
  {
   "cell_type": "markdown",
   "metadata": {
    "pycharm": {
     "metadata": false
    }
   },
   "source": [
    "To save the picture you can use the command"
   ]
  },
  {
   "cell_type": "code",
   "execution_count": 10,
   "metadata": {
    "pycharm": {
     "metadata": false,
     "name": "#%%\n"
    }
   },
   "outputs": [],
   "source": [
    "fig.savefig(\"output.png\", dpi=150);"
   ]
  },
  {
   "cell_type": "markdown",
   "metadata": {
    "pycharm": {
     "metadata": false
    }
   },
   "source": [
    "## Making subplots\n",
    "We use the style `seaborn-whitegrid`, to check for other styles look [here](https://matplotlib.org/gallery/style_sheets/style_sheets_reference.html)"
   ]
  },
  {
   "cell_type": "code",
   "execution_count": 11,
   "metadata": {
    "pycharm": {
     "metadata": false,
     "name": "#%%\n"
    }
   },
   "outputs": [
    {
     "name": "stdout",
     "output_type": "stream",
     "text": [
      "['seaborn-talk', 'dark_background', 'seaborn-paper', 'seaborn-poster', 'seaborn-dark-palette', '_classic_test', 'seaborn', 'seaborn-darkgrid', 'fast', 'seaborn-deep', 'bmh', 'seaborn-whitegrid', 'grayscale', 'classic', 'ggplot', 'seaborn-white', 'tableau-colorblind10', 'fivethirtyeight', 'seaborn-muted', 'seaborn-bright', 'seaborn-colorblind', 'seaborn-notebook', 'seaborn-dark', 'seaborn-ticks', 'seaborn-pastel', 'Solarize_Light2']\n"
     ]
    }
   ],
   "source": [
    "print(plt.style.available)"
   ]
  },
  {
   "cell_type": "code",
   "execution_count": 12,
   "metadata": {
    "pycharm": {
     "metadata": false,
     "name": "#%%\n"
    }
   },
   "outputs": [],
   "source": [
    "plt.style.use('seaborn-whitegrid')"
   ]
  },
  {
   "cell_type": "code",
   "execution_count": 13,
   "metadata": {
    "pycharm": {
     "metadata": false,
     "name": "#%%\n"
    }
   },
   "outputs": [],
   "source": [
    "winter = daily['2012-12-01': '2013-02-28']\n",
    "spring = daily['2013-03-01': '2013-05-31']\n",
    "summer = daily['2013-06-01': '2013-08-31']\n",
    "fall = daily['2013-09-01': '2013-11-30']"
   ]
  },
  {
   "cell_type": "code",
   "execution_count": 14,
   "metadata": {
    "pycharm": {
     "metadata": false,
     "name": "#%%\n"
    }
   },
   "outputs": [
    {
     "data": {
      "text/html": [
       "<div>\n",
       "<style scoped>\n",
       "    .dataframe tbody tr th:only-of-type {\n",
       "        vertical-align: middle;\n",
       "    }\n",
       "\n",
       "    .dataframe tbody tr th {\n",
       "        vertical-align: top;\n",
       "    }\n",
       "\n",
       "    .dataframe thead th {\n",
       "        text-align: right;\n",
       "    }\n",
       "</style>\n",
       "<table border=\"1\" class=\"dataframe\">\n",
       "  <thead>\n",
       "    <tr style=\"text-align: right;\">\n",
       "      <th></th>\n",
       "      <th>TEMP</th>\n",
       "      <th>SPEED</th>\n",
       "      <th>Celsius</th>\n",
       "    </tr>\n",
       "    <tr>\n",
       "      <th>TIME</th>\n",
       "      <th></th>\n",
       "      <th></th>\n",
       "      <th></th>\n",
       "    </tr>\n",
       "  </thead>\n",
       "  <tbody>\n",
       "    <tr>\n",
       "      <th>2012-12-01</th>\n",
       "      <td>15.500000</td>\n",
       "      <td>6.083333</td>\n",
       "      <td>-9.166667</td>\n",
       "    </tr>\n",
       "    <tr>\n",
       "      <th>2012-12-02</th>\n",
       "      <td>10.041667</td>\n",
       "      <td>3.416667</td>\n",
       "      <td>-12.199074</td>\n",
       "    </tr>\n",
       "    <tr>\n",
       "      <th>2012-12-03</th>\n",
       "      <td>11.125000</td>\n",
       "      <td>3.791667</td>\n",
       "      <td>-11.597222</td>\n",
       "    </tr>\n",
       "    <tr>\n",
       "      <th>2012-12-04</th>\n",
       "      <td>12.875000</td>\n",
       "      <td>5.750000</td>\n",
       "      <td>-10.625000</td>\n",
       "    </tr>\n",
       "    <tr>\n",
       "      <th>2012-12-05</th>\n",
       "      <td>11.083333</td>\n",
       "      <td>3.791667</td>\n",
       "      <td>-11.620370</td>\n",
       "    </tr>\n",
       "  </tbody>\n",
       "</table>\n",
       "</div>"
      ],
      "text/plain": [
       "                 TEMP     SPEED    Celsius\n",
       "TIME                                      \n",
       "2012-12-01  15.500000  6.083333  -9.166667\n",
       "2012-12-02  10.041667  3.416667 -12.199074\n",
       "2012-12-03  11.125000  3.791667 -11.597222\n",
       "2012-12-04  12.875000  5.750000 -10.625000\n",
       "2012-12-05  11.083333  3.791667 -11.620370"
      ]
     },
     "execution_count": 14,
     "metadata": {},
     "output_type": "execute_result"
    }
   ],
   "source": [
    "winter.head()"
   ]
  },
  {
   "cell_type": "markdown",
   "metadata": {
    "pycharm": {
     "metadata": false
    }
   },
   "source": [
    "Let us compute minimum and maximum temperature"
   ]
  },
  {
   "cell_type": "code",
   "execution_count": 15,
   "metadata": {
    "pycharm": {
     "metadata": false,
     "name": "#%% \n"
    }
   },
   "outputs": [
    {
     "name": "stdout",
     "output_type": "stream",
     "text": [
      "Min: -25, Max: 29\n"
     ]
    }
   ],
   "source": [
    "min_temp = daily['Celsius'].min() - 5\n",
    "max_temp = daily['Celsius'].max() + 5\n",
    "print(\"Min: %d, Max: %d\" % (min_temp, max_temp))"
   ]
  },
  {
   "cell_type": "code",
   "execution_count": 16,
   "metadata": {
    "pycharm": {
     "metadata": false,
     "name": "#%%\n"
    }
   },
   "outputs": [
    {
     "data": {
      "image/png": "[encoded data removed]",
      "text/plain": [
       "<Figure size 864x576 with 4 Axes>"
      ]
     },
     "metadata": {},
     "output_type": "display_data"
    }
   ],
   "source": [
    "fig, axes = plt.subplots(nrows=2, ncols=2, figsize=(12,8))\n",
    "line_width = 2.5\n",
    "winter.plot(y='Celsius', ax=axes[0][0], c='blue', legend=False, lw=line_width, ylim=(min_temp, max_temp));\n",
    "spring.plot(y='Celsius', ax=axes[0][1], c='orange', legend=False, lw=line_width, ylim=(min_temp, max_temp));\n",
    "summer.plot(y='Celsius', ax=axes[1][0], c='green', legend=False, lw=line_width, ylim=(min_temp, max_temp));\n",
    "fall.plot(  y='Celsius', ax=axes[1][1], c='brown', legend=False, lw=line_width, ylim=(min_temp, max_temp));\n",
    "\n",
    "step = 3\n",
    "\n",
    "if step > 0:\n",
    "    yticks = np.arange(start=-25, stop=31, step=5)\n",
    "\n",
    "if step > 1:\n",
    "    import itertools\n",
    "    for ax in list(itertools.chain(*axes)):\n",
    "        # Clear x axis ticks\n",
    "        ax.get_xaxis().set_ticks([])\n",
    "        # Specifu y-axis ticks\n",
    "        ax.yaxis.set_ticks(yticks)\n",
    "        # Specify major tick-label sizes larger\n",
    "        ax.tick_params(axis='both', which='major', labelsize=12)\n",
    "\n",
    "if step > 2:\n",
    "    from matplotlib import dates\n",
    "\n",
    "    # Iterate over all four axes that we have and apply same procedures to each one of them\n",
    "    for ax in list(itertools.chain(*axes)):\n",
    "        # Set minor ticks with day numbers\n",
    "        ax.xaxis.set_minor_locator(dates.DayLocator(interval=7))\n",
    "        ax.xaxis.set_minor_formatter(dates.DateFormatter('%d'))\n",
    "        # Set major ticks with month names\n",
    "        ax.xaxis.set_major_locator(dates.MonthLocator())\n",
    "        ax.xaxis.set_major_formatter(dates.DateFormatter('\\n%b'))"
   ]
  },
  {
   "cell_type": "markdown",
   "metadata": {
    "pycharm": {
     "metadata": false
    }
   },
   "source": [
    "# Plotting - seaborn\n",
    "\n",
    "Seaborn is a package built on top of matplotlib \n",
    " that makes easy to plot data by offering a large variety of \n",
    " predefined plots.\n",
    " \n",
    "To checkout the package go [here](https://seaborn.pydata.org/index.html) "
   ]
  },
  {
   "cell_type": "code",
   "execution_count": 17,
   "metadata": {
    "pycharm": {
     "metadata": false,
     "name": "#%%\n"
    }
   },
   "outputs": [
    {
     "data": {
      "text/plain": [
       "<matplotlib.axes._subplots.AxesSubplot at 0x7f12fae3d160>"
      ]
     },
     "execution_count": 17,
     "metadata": {},
     "output_type": "execute_result"
    },
    {
     "data": {
      "image/png": "[encoded data removed]",
      "text/plain": [
       "<Figure size 432x288 with 1 Axes>"
      ]
     },
     "metadata": {},
     "output_type": "display_data"
    }
   ],
   "source": [
    "import numpy as np\n",
    "import pandas as pd\n",
    "import seaborn as sns\n",
    "sns.set(style=\"whitegrid\")\n",
    "\n",
    "rs = np.random.RandomState(365) # set seed\n",
    "values = rs.randn(365, 4).cumsum(axis=0) # generate 4 random walks\n",
    "dates = pd.date_range(\"1 1 2016\", periods=365, freq=\"D\") # create list of days\n",
    "data = pd.DataFrame(values, dates, columns=[\"A\", \"B\", \"C\", \"D\"]) # create DataFrame\n",
    "data = data.rolling(7).mean() # make week averages\n",
    "\n",
    "sns.lineplot(data=data, palette=\"tab10\", linewidth=2.5)"
   ]
  }
 ],
 "metadata": {
  "kernelspec": {
   "display_name": "Python 3",
   "language": "python",
   "name": "python3"
  },
  "language_info": {
   "codemirror_mode": {
    "name": "ipython",
    "version": 3
   },
   "file_extension": ".py",
   "mimetype": "text/x-python",
   "name": "python",
   "nbconvert_exporter": "python",
   "pygments_lexer": "ipython3",
   "version": "3.6.9"
  },
  "stem_cell": {
   "cell_type": "raw",
   "metadata": {
    "pycharm": {
     "metadata": false
    }
   },
   "source": ""
  }
 },
 "nbformat": 4,
 "nbformat_minor": 4
}
