{
  "cells": [
    {
      "cell_type": "markdown",
      "source": "# Introduction to Python\n",
      "metadata": {
        "pycharm": {
          "metadata": false
        }
      },
      "execution_count": 28
    },
    {
      "cell_type": "markdown",
      "source": "## Basics\n\n- Variables  \n- Assignment  \n- Strings  \n- Lists  \n- Dictionaries  \n ",
      "metadata": {
        "pycharm": {
          "metadata": false,
          "name": "#%% md\n"
        }
      }
    },
    {
      "cell_type": "markdown",
      "source": "## Programming Fundamentals\n\n- Control flow (if-statements)  \n- loops\n- Functions\n",
      "metadata": {
        "pycharm": {
          "metadata": false
        }
      }
    },
    {
      "cell_type": "markdown",
      "source": "## Pandas \n\n- Selecting and subsetting data  \n- Data types  \n- Data manipulation and processing techniques  \n\n",
      "metadata": {
        "pycharm": {
          "metadata": false,
          "name": "#%% md\n"
        }
      }
    },
    {
      "cell_type": "markdown",
      "source": "## Plotting\n\n- pandas  \n- matplotlib  \n- seaborn\n\n\n",
      "metadata": {
        "pycharm": {
          "metadata": false,
          "name": "#%% md\n"
        }
      }
    },
    {
      "cell_type": "markdown",
      "source": "## Python Data Types\n\n- `int` : integers (R: numeric)\n- `float` : reals (R: numeric)\n- `bool` : booleans `True` or `False` values (R: logical, `TRUE` or `FALSE`)\n- `str` : strings (R: character)\n",
      "metadata": {
        "pycharm": {
          "metadata": false,
          "name": "#%% md\n"
        }
      }
    },
    {
      "cell_type": "markdown",
      "source": "## Assignment \u0026 Data Types\n",
      "metadata": {
        "pycharm": {
          "metadata": false
        }
      }
    },
    {
      "cell_type": "code",
      "execution_count": 3,
      "outputs": [],
      "source": "x \u003d 5  # R: x \u003c- 5",
      "metadata": {
        "pycharm": {
          "metadata": false,
          "name": "#%%\n"
        }
      }
    },
    {
      "cell_type": "code",
      "execution_count": 2,
      "outputs": [],
      "source": "y \u003d 1.5  # R: y \u003c- 1.5",
      "metadata": {
        "pycharm": {
          "metadata": false,
          "name": "#%%\n"
        }
      }
    },
    {
      "cell_type": "code",
      "execution_count": null,
      "outputs": [],
      "source": "z \u003d True # R: z \u003c- TRUE",
      "metadata": {
        "pycharm": {
          "metadata": false,
          "name": "#%%\n"
        }
      }
    },
    {
      "cell_type": "code",
      "execution_count": 4,
      "outputs": [],
      "source": "w \u003d \"Hello\" # R: w \u003c- \"Hello\"",
      "metadata": {
        "pycharm": {
          "metadata": false,
          "name": "#%%\n"
        }
      }
    },
    {
      "cell_type": "markdown",
      "source": "To know the data type of a variable use:",
      "metadata": {
        "pycharm": {
          "metadata": false,
          "name": "#%% md\n"
        }
      }
    },
    {
      "cell_type": "code",
      "execution_count": 8,
      "outputs": [
        {
          "data": {
            "text/plain": "int"
          },
          "metadata": {},
          "output_type": "execute_result",
          "execution_count": 8
        }
      ],
      "source": "type(x) # R: class(x)",
      "metadata": {
        "pycharm": {
          "metadata": false,
          "name": "#%%\n"
        }
      }
    },
    {
      "cell_type": "code",
      "execution_count": 9,
      "outputs": [
        {
          "data": {
            "text/plain": "float"
          },
          "metadata": {},
          "output_type": "execute_result",
          "execution_count": 9
        }
      ],
      "source": "type(y) # R: class(y)\n",
      "metadata": {
        "pycharm": {
          "metadata": false,
          "name": "#%%\n"
        }
      }
    },
    {
      "cell_type": "markdown",
      "source": "## Print statements (in python 3)\n",
      "metadata": {
        "pycharm": {
          "metadata": false
        }
      }
    },
    {
      "cell_type": "code",
      "execution_count": 5,
      "outputs": [
        {
          "name": "stdout",
          "text": [
            "5\n"
          ],
          "output_type": "stream"
        }
      ],
      "source": "print(5)  # R: print(5)",
      "metadata": {
        "pycharm": {
          "metadata": false,
          "name": "#%%\n"
        }
      }
    },
    {
      "cell_type": "code",
      "execution_count": 7,
      "outputs": [
        {
          "name": "stdout",
          "text": [
            "Hello World\n"
          ],
          "output_type": "stream"
        }
      ],
      "source": "print(\"Hello World\") # R: print(\"Hello World\")",
      "metadata": {
        "pycharm": {
          "metadata": false,
          "name": "#%%\n"
        }
      }
    },
    {
      "cell_type": "code",
      "execution_count": null,
      "outputs": [],
      "source": "",
      "metadata": {
        "pycharm": {
          "metadata": false,
          "name": "#%%\n"
        }
      }
    },
    {
      "cell_type": "markdown",
      "source": "## Operators\n\nThey may work differently with different data types",
      "metadata": {
        "pycharm": {
          "metadata": false
        }
      }
    },
    {
      "cell_type": "code",
      "execution_count": 11,
      "outputs": [
        {
          "name": "stdout",
          "text": [
            "6\n"
          ],
          "output_type": "stream"
        }
      ],
      "source": "print(x + 1) # R print(x + 1)",
      "metadata": {
        "pycharm": {
          "metadata": false,
          "name": "#%%\n"
        }
      }
    },
    {
      "cell_type": "code",
      "execution_count": 16,
      "outputs": [
        {
          "name": "stdout",
          "text": [
            "Hello World\n"
          ],
          "output_type": "stream"
        }
      ],
      "source": "print(w + \" World\") # R: print (paste(w,\"World\"))\n",
      "metadata": {
        "pycharm": {
          "metadata": false,
          "name": "#%%\n"
        }
      }
    },
    {
      "cell_type": "markdown",
      "source": "This will result in an error:",
      "metadata": {
        "pycharm": {
          "metadata": false
        }
      }
    },
    {
      "cell_type": "code",
      "execution_count": 17,
      "outputs": [
        {
          "traceback": [
            "\u001b[0;31m---------------------------------------------------------------------------\u001b[0m",
            "\u001b[0;31mTypeError\u001b[0m                                 Traceback (most recent call last)",
            "\u001b[0;32m\u003cipython-input-17-fe85f9d5537b\u003e\u001b[0m in \u001b[0;36m\u003cmodule\u003e\u001b[0;34m\u001b[0m\n\u001b[0;32m----\u003e 1\u001b[0;31m \u001b[0mprint\u001b[0m\u001b[0;34m(\u001b[0m\u001b[0mx\u001b[0m \u001b[0;34m+\u001b[0m \u001b[0;34m\"world\"\u001b[0m\u001b[0;34m)\u001b[0m\u001b[0;34m\u001b[0m\u001b[0m\n\u001b[0m\u001b[1;32m      2\u001b[0m \u001b[0;34m\u001b[0m\u001b[0m\n",
            "\u001b[0;31mTypeError\u001b[0m: unsupported operand type(s) for +: \u0027int\u0027 and \u0027str\u0027"
          ],
          "ename": "TypeError",
          "evalue": "unsupported operand type(s) for +: \u0027int\u0027 and \u0027str\u0027",
          "output_type": "error"
        }
      ],
      "source": "print(x + \"world\")\n",
      "metadata": {
        "pycharm": {
          "metadata": false,
          "name": "#%%\n"
        }
      }
    },
    {
      "cell_type": "code",
      "execution_count": 21,
      "outputs": [
        {
          "data": {
            "text/plain": "\u002711111\u0027"
          },
          "metadata": {},
          "output_type": "execute_result",
          "execution_count": 21
        }
      ],
      "source": "\"1\" * 5\n",
      "metadata": {
        "pycharm": {
          "metadata": false,
          "name": "#%%\n"
        }
      }
    },
    {
      "cell_type": "code",
      "execution_count": 20,
      "outputs": [
        {
          "data": {
            "text/plain": "\u002715\u0027"
          },
          "metadata": {},
          "output_type": "execute_result",
          "execution_count": 20
        }
      ],
      "source": "\u00271\u0027 \u00275\u0027",
      "metadata": {
        "pycharm": {
          "metadata": false,
          "name": "#%%\n"
        }
      }
    },
    {
      "cell_type": "code",
      "execution_count": null,
      "outputs": [],
      "source": "",
      "metadata": {
        "pycharm": {
          "metadata": false,
          "name": "#%%\n"
        }
      }
    },
    {
      "cell_type": "markdown",
      "source": "## Lists\n\nSimilar to in R, in python lists can contain data of multiple data type",
      "metadata": {
        "pycharm": {
          "metadata": false
        }
      }
    },
    {
      "cell_type": "code",
      "execution_count": 23,
      "outputs": [
        {
          "name": "stdout",
          "text": [
            "[1, True, 3.14, \u0027Hello\u0027]\n"
          ],
          "output_type": "stream"
        }
      ],
      "source": "l \u003d [1, True, 3.14, \u0027Hello\u0027] # R: l \u003c- list(1, TRUE, 3.14, \u0027Hello\u0027)\nprint(l)",
      "metadata": {
        "pycharm": {
          "metadata": false,
          "name": "#%%\n"
        }
      }
    },
    {
      "cell_type": "markdown",
      "source": "**WARNING:** In python the first element of a list is indexed by 0",
      "metadata": {
        "pycharm": {
          "metadata": false
        }
      }
    },
    {
      "cell_type": "code",
      "execution_count": 24,
      "outputs": [
        {
          "name": "stdout",
          "text": [
            "1\n"
          ],
          "output_type": "stream"
        }
      ],
      "source": "print(l[0]) # R: print(l[1])",
      "metadata": {
        "pycharm": {
          "metadata": false,
          "name": "#%%\n"
        }
      }
    },
    {
      "cell_type": "markdown",
      "source": "**WARNING:** In python negative indexes select from the tail\n(while in R remove elements from the head)",
      "metadata": {
        "pycharm": {
          "metadata": false,
          "name": "#%% md\n"
        }
      }
    },
    {
      "cell_type": "code",
      "execution_count": 27,
      "outputs": [
        {
          "name": "stdout",
          "text": [
            "3.14\n"
          ],
          "output_type": "stream"
        }
      ],
      "source": "print(l[-2]) # R: print(tail(l)[2])\n",
      "metadata": {
        "pycharm": {
          "metadata": false,
          "name": "#%%\n"
        }
      }
    },
    {
      "cell_type": "markdown",
      "source": "## Sliding Lists\nIn Python a sub-list is estracted by using te operator\n`start:end` or `start:end:step`. \nThe start index is included while the end is excluded.",
      "metadata": {
        "pycharm": {
          "metadata": false
        }
      }
    },
    {
      "cell_type": "code",
      "execution_count": 34,
      "outputs": [],
      "source": "l \u003d [1,2,3,4,5] # R: l \u003c- list(1,2,3,4,5)",
      "metadata": {
        "pycharm": {
          "metadata": false,
          "name": "#%%\n"
        }
      }
    },
    {
      "cell_type": "code",
      "execution_count": 32,
      "outputs": [
        {
          "data": {
            "text/plain": "[3, 4]"
          },
          "metadata": {},
          "output_type": "execute_result",
          "execution_count": 32
        }
      ],
      "source": "l[2:4] # R: l[3:4]",
      "metadata": {
        "pycharm": {
          "metadata": false,
          "name": "#%%\n"
        }
      }
    },
    {
      "cell_type": "code",
      "execution_count": 35,
      "outputs": [
        {
          "data": {
            "text/plain": "[1, 3, 5]"
          },
          "metadata": {},
          "output_type": "execute_result",
          "execution_count": 35
        }
      ],
      "source": "l[0:5:2] # R: l[c(TRUE,FALSE)]",
      "metadata": {
        "pycharm": {
          "metadata": false,
          "name": "#%%\n"
        }
      }
    },
    {
      "cell_type": "markdown",
      "source": "Implicit values mean:\n- start: head element\n- end: tail element\n- step: 1",
      "metadata": {
        "pycharm": {
          "metadata": false
        }
      }
    },
    {
      "cell_type": "code",
      "execution_count": 38,
      "outputs": [
        {
          "data": {
            "text/plain": "[1, 2, 3]"
          },
          "metadata": {},
          "output_type": "execute_result",
          "execution_count": 38
        }
      ],
      "source": "l[:3] # R: l[1:3]",
      "metadata": {
        "pycharm": {
          "metadata": false,
          "name": "#%%\n"
        }
      }
    },
    {
      "cell_type": "code",
      "execution_count": 40,
      "outputs": [
        {
          "data": {
            "text/plain": "[4, 5]"
          },
          "metadata": {},
          "output_type": "execute_result",
          "execution_count": 40
        }
      ],
      "source": "l[3:] # R: l[4:5]",
      "metadata": {
        "pycharm": {
          "metadata": false,
          "name": "#%%\n"
        }
      }
    },
    {
      "cell_type": "code",
      "execution_count": 41,
      "outputs": [
        {
          "data": {
            "text/plain": "[1, 3, 5]"
          },
          "metadata": {},
          "output_type": "execute_result",
          "execution_count": 41
        }
      ],
      "source": "l[::2] # R: l[c(TRUE,FALSE)]\n\n",
      "metadata": {
        "pycharm": {
          "metadata": false,
          "name": "#%%\n"
        }
      }
    },
    {
      "cell_type": "markdown",
      "source": "## Dictionaries \n\nDictionaries store `key:value` pairs.\n\nWhile elements of a lists are unnamed and accessed by an index,\nthe values of a dictionary are accessed by a key value.",
      "metadata": {
        "pycharm": {
          "metadata": false
        }
      }
    },
    {
      "cell_type": "code",
      "execution_count": 57,
      "outputs": [],
      "source": "d \u003d {\u0027name\u0027: \u0027John\u0027, \u0027employed\u0027: False, \u0027age\u0027:30, \u0027height\u0027:71.5} \n# R: d \u003c- list(\u0027John\u0027, 30, 71.5, FALSE); names(d)\u003c-c(\u0027name\u0027, \u0027age\u0027, \u0027height\u0027, \u0027employed\u0027) ",
      "metadata": {
        "pycharm": {
          "metadata": false,
          "name": "#%%\n"
        }
      }
    },
    {
      "cell_type": "code",
      "execution_count": 58,
      "outputs": [
        {
          "data": {
            "text/plain": "\u0027John\u0027"
          },
          "metadata": {},
          "output_type": "execute_result",
          "execution_count": 58
        }
      ],
      "source": "d[\u0027name\u0027] # R: d[\u0027name\u0027]",
      "metadata": {
        "pycharm": {
          "metadata": false,
          "name": "#%%\n"
        }
      }
    },
    {
      "cell_type": "code",
      "execution_count": 59,
      "outputs": [
        {
          "data": {
            "text/plain": "{\u0027name\u0027: \u0027John\u0027, \u0027employed\u0027: False, \u0027age\u0027: 30, \u0027height\u0027: 71.5}"
          },
          "metadata": {},
          "output_type": "execute_result",
          "execution_count": 59
        }
      ],
      "source": "d",
      "metadata": {
        "pycharm": {
          "metadata": false,
          "name": "#%%\n"
        }
      }
    },
    {
      "cell_type": "code",
      "execution_count": null,
      "outputs": [],
      "source": "",
      "metadata": {
        "pycharm": {
          "metadata": false,
          "name": "#%%\n"
        }
      }
    },
    {
      "cell_type": "markdown",
      "source": "## Methods and Functions\n\nSimilarly to R, Python has functions and methods.\n- _Methods_ are functions that an object can call on itself\n- _Functions_ are called on an object",
      "metadata": {
        "pycharm": {
          "metadata": false
        }
      }
    },
    {
      "cell_type": "code",
      "execution_count": 65,
      "outputs": [
        {
          "data": {
            "text/plain": "6"
          },
          "metadata": {},
          "output_type": "execute_result",
          "execution_count": 65
        }
      ],
      "source": "l \u003d [0,2,3,4,1,5]\nlen(l)",
      "metadata": {
        "pycharm": {
          "metadata": false,
          "name": "#%%\n"
        }
      }
    },
    {
      "cell_type": "code",
      "execution_count": 67,
      "outputs": [
        {
          "name": "stdout",
          "text": [
            "[0, 1, 2, 3, 4, 5]\n"
          ],
          "output_type": "stream"
        }
      ],
      "source": "l.sort(); \nprint(l)",
      "metadata": {
        "pycharm": {
          "metadata": false,
          "name": "#%%\n"
        }
      }
    },
    {
      "cell_type": "markdown",
      "source": "**IMPORTANT** periods have special meaning in Python.\n",
      "metadata": {
        "pycharm": {
          "metadata": false
        }
      }
    },
    {
      "cell_type": "markdown",
      "source": "## Example of Methods",
      "metadata": {
        "pycharm": {
          "metadata": false
        }
      }
    },
    {
      "cell_type": "code",
      "execution_count": 70,
      "outputs": [
        {
          "data": {
            "text/plain": "[0, 1, 2, 3, 4, 5, 6]"
          },
          "metadata": {},
          "output_type": "execute_result",
          "execution_count": 70
        }
      ],
      "source": "l \u003d [0,1,2,3,4,5];\nl.append(6); l",
      "metadata": {
        "pycharm": {
          "metadata": false,
          "name": "#%%\n"
        }
      }
    },
    {
      "cell_type": "code",
      "execution_count": 72,
      "outputs": [
        {
          "data": {
            "text/plain": "{\u0027fname\u0027: \u0027John\u0027, \u0027lname\u0027: \u0027Davis\u0027, \u0027age\u0027: 35}"
          },
          "metadata": {},
          "output_type": "execute_result",
          "execution_count": 72
        }
      ],
      "source": "d \u003d {\u0027fname\u0027: \u0027John\u0027, \u0027lname\u0027: \u0027Brown\u0027} \nd.update({\u0027lname\u0027: \u0027Davis\u0027, \u0027age\u0027: 35}); d",
      "metadata": {
        "pycharm": {
          "metadata": false,
          "name": "#%%\n"
        }
      }
    },
    {
      "cell_type": "markdown",
      "source": "Methods are specific of an object. \nFor example dictionaries do not have a method `append`.\n",
      "metadata": {
        "pycharm": {
          "metadata": false
        }
      }
    },
    {
      "cell_type": "markdown",
      "source": "## Libraries\n\nSimilarly to R, many functionality in Python are not part of the core language but added by calling specific libraries.\n\nFor example, to have some typical R objects available in Python you may need to load special libraries.\n\n- `numpy` : Array and Matrices  \n- `pandas` : Dataframes\n\n",
      "metadata": {
        "pycharm": {
          "metadata": false
        }
      }
    },
    {
      "cell_type": "markdown",
      "source": "## Numpy `ndarray`\n\nTo read an array from a _csv_ file in Python you can use",
      "metadata": {
        "pycharm": {
          "metadata": false
        }
      }
    },
    {
      "cell_type": "code",
      "execution_count": 7,
      "outputs": [
        {
          "data": {
            "text/plain": "array([1.230e+02, 3.400e+01, 1.230e+02, 4.500e+01, 2.346e+03, 1.230e+02,\n       5.236e+03, 2.340e+02, 6.510e+02, 6.400e+01, 2.430e+02, 2.346e+03,\n       5.234e+03, 6.245e+03, 6.000e+00, 3.246e+03, 4.500e+01, 7.234e+03,\n       6.000e+00])"
          },
          "metadata": {},
          "output_type": "execute_result",
          "execution_count": 7
        }
      ],
      "source": "import numpy # R: library(readr)\narr \u003d numpy.loadtxt(\u0027darray.csv\u0027, delimiter\u003d\u0027,\u0027) \n#R: arr \u003c- read_csv(\u0027darray.csv\u0027)\narr",
      "metadata": {
        "pycharm": {
          "metadata": false,
          "name": "#%%\n"
        }
      }
    },
    {
      "cell_type": "markdown",
      "source": "or you may give an _alias_ to the library name, such as `np`",
      "metadata": {
        "pycharm": {
          "metadata": false
        }
      }
    },
    {
      "cell_type": "code",
      "execution_count": 13,
      "outputs": [
        {
          "data": {
            "text/plain": "array([1.230e+02, 3.400e+01, 1.230e+02, 4.500e+01, 2.346e+03, 1.230e+02,\n       5.236e+03, 2.340e+02, 6.510e+02, 6.400e+01, 2.430e+02, 2.346e+03,\n       5.234e+03, 6.245e+03, 6.000e+00, 3.246e+03, 4.500e+01, 7.234e+03,\n       6.000e+00])"
          },
          "metadata": {},
          "output_type": "execute_result",
          "execution_count": 13
        }
      ],
      "source": "import numpy as np # R: library(readr)\narr \u003d np.loadtxt(\u0027darray.csv\u0027, delimiter\u003d\u0027,\u0027) \n#R: arr \u003c- read_csv(\u0027darray.csv\u0027, col_names \u003d FALSE)\narr",
      "metadata": {
        "pycharm": {
          "metadata": false,
          "name": "#%%\n"
        }
      }
    },
    {
      "cell_type": "markdown",
      "source": "or, as in R, you may let all library\u0027s objiects available in the main scope",
      "metadata": {
        "pycharm": {
          "metadata": false
        }
      }
    },
    {
      "cell_type": "code",
      "execution_count": 28,
      "outputs": [
        {
          "data": {
            "text/plain": "273.0"
          },
          "metadata": {},
          "output_type": "execute_result",
          "execution_count": 28
        }
      ],
      "source": "from numpy import * # R: library(readr)\narr \u003d loadtxt(\u0027darray.csv\u0027, delimiter\u003d\u0027,\u0027) \n#R: arr \u003c- read_csv(\u0027darray.csv\u0027, col_names \u003d FALSE)\narr[:,0].mean() # R: mean(arr[[1]])",
      "metadata": {
        "pycharm": {
          "metadata": false,
          "name": "#%%\n"
        }
      }
    },
    {
      "cell_type": "markdown",
      "source": "## Pandas `DataFrame`\n\nTo read an dataframe from a _csv_ file in Python you can use `pandas`library",
      "metadata": {
        "pycharm": {
          "metadata": false
        }
      }
    },
    {
      "cell_type": "code",
      "execution_count": 19,
      "outputs": [
        {
          "data": {
            "text/plain": "pandas.core.frame.DataFrame"
          },
          "metadata": {},
          "output_type": "execute_result",
          "execution_count": 19
        }
      ],
      "source": "import pandas as pd\niris \u003d pd.read_csv(\u0027iris.csv\u0027)\ntype(iris)",
      "metadata": {
        "pycharm": {
          "metadata": false,
          "name": "#%%\n"
        }
      }
    },
    {
      "cell_type": "code",
      "execution_count": 20,
      "outputs": [
        {
          "data": {
            "text/plain": "   Sepal.Length  Sepal.Width  Petal.Length  Petal.Width Species\n0           5.1          3.5           1.4          0.2  setosa\n1           4.9          3.0           1.4          0.2  setosa\n2           4.7          3.2           1.3          0.2  setosa\n3           4.6          3.1           1.5          0.2  setosa\n4           5.0          3.6           1.4          0.2  setosa",
            "text/html": "\u003cdiv\u003e\n\u003cstyle scoped\u003e\n    .dataframe tbody tr th:only-of-type {\n        vertical-align: middle;\n    }\n\n    .dataframe tbody tr th {\n        vertical-align: top;\n    }\n\n    .dataframe thead th {\n        text-align: right;\n    }\n\u003c/style\u003e\n\u003ctable border\u003d\"1\" class\u003d\"dataframe\"\u003e\n  \u003cthead\u003e\n    \u003ctr style\u003d\"text-align: right;\"\u003e\n      \u003cth\u003e\u003c/th\u003e\n      \u003cth\u003eSepal.Length\u003c/th\u003e\n      \u003cth\u003eSepal.Width\u003c/th\u003e\n      \u003cth\u003ePetal.Length\u003c/th\u003e\n      \u003cth\u003ePetal.Width\u003c/th\u003e\n      \u003cth\u003eSpecies\u003c/th\u003e\n    \u003c/tr\u003e\n  \u003c/thead\u003e\n  \u003ctbody\u003e\n    \u003ctr\u003e\n      \u003cth\u003e0\u003c/th\u003e\n      \u003ctd\u003e5.1\u003c/td\u003e\n      \u003ctd\u003e3.5\u003c/td\u003e\n      \u003ctd\u003e1.4\u003c/td\u003e\n      \u003ctd\u003e0.2\u003c/td\u003e\n      \u003ctd\u003esetosa\u003c/td\u003e\n    \u003c/tr\u003e\n    \u003ctr\u003e\n      \u003cth\u003e1\u003c/th\u003e\n      \u003ctd\u003e4.9\u003c/td\u003e\n      \u003ctd\u003e3.0\u003c/td\u003e\n      \u003ctd\u003e1.4\u003c/td\u003e\n      \u003ctd\u003e0.2\u003c/td\u003e\n      \u003ctd\u003esetosa\u003c/td\u003e\n    \u003c/tr\u003e\n    \u003ctr\u003e\n      \u003cth\u003e2\u003c/th\u003e\n      \u003ctd\u003e4.7\u003c/td\u003e\n      \u003ctd\u003e3.2\u003c/td\u003e\n      \u003ctd\u003e1.3\u003c/td\u003e\n      \u003ctd\u003e0.2\u003c/td\u003e\n      \u003ctd\u003esetosa\u003c/td\u003e\n    \u003c/tr\u003e\n    \u003ctr\u003e\n      \u003cth\u003e3\u003c/th\u003e\n      \u003ctd\u003e4.6\u003c/td\u003e\n      \u003ctd\u003e3.1\u003c/td\u003e\n      \u003ctd\u003e1.5\u003c/td\u003e\n      \u003ctd\u003e0.2\u003c/td\u003e\n      \u003ctd\u003esetosa\u003c/td\u003e\n    \u003c/tr\u003e\n    \u003ctr\u003e\n      \u003cth\u003e4\u003c/th\u003e\n      \u003ctd\u003e5.0\u003c/td\u003e\n      \u003ctd\u003e3.6\u003c/td\u003e\n      \u003ctd\u003e1.4\u003c/td\u003e\n      \u003ctd\u003e0.2\u003c/td\u003e\n      \u003ctd\u003esetosa\u003c/td\u003e\n    \u003c/tr\u003e\n  \u003c/tbody\u003e\n\u003c/table\u003e\n\u003c/div\u003e"
          },
          "metadata": {},
          "output_type": "execute_result",
          "execution_count": 20
        }
      ],
      "source": "iris.head() # R: head(iris)",
      "metadata": {
        "pycharm": {
          "metadata": false,
          "name": "#%%\n"
        }
      }
    }
  ],
  "metadata": {
    "kernelspec": {
      "display_name": "Python 2",
      "language": "python",
      "name": "python2"
    },
    "language_info": {
      "codemirror_mode": {
        "name": "ipython",
        "version": 2
      },
      "file_extension": ".py",
      "mimetype": "text/x-python",
      "name": "python",
      "nbconvert_exporter": "python",
      "pygments_lexer": "ipython2",
      "version": "2.7.6"
    },
    "stem_cell": {
      "cell_type": "raw",
      "source": "",
      "metadata": {
        "pycharm": {
          "metadata": false
        }
      }
    }
  },
  "nbformat": 4,
  "nbformat_minor": 0
}