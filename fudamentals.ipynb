{
  "cells": [
    {
      "cell_type": "markdown",
      "source": "# Python - Programming Fundamentals\n[Reference](https://docs.python.org/3/tutorial/controlflow.html)\n\n- Control flow (if-statements)  \n- Loops\n- Functions\n",
      "metadata": {
        "pycharm": {
          "metadata": false
        }
      },
      "execution_count": 41
    },
    {
      "cell_type": "markdown",
      "source": "## if - else statements\n\nIf-statements in Python work similarly to R,\nhowever the indentation is important.",
      "metadata": {
        "pycharm": {
          "metadata": false
        }
      }
    },
    {
      "cell_type": "code",
      "execution_count": null,
      "outputs": [],
      "source": "if (2!\u003d3) or 2/0: # R:  if ((2!\u003d3) || (1/0)) { \n    print(\"no\")   #     + print(\u0027no\u0027)\nelse:             #     + } else {\n    print(\"yes\")  #     + print(\u0027yes\u0027)}",
      "metadata": {
        "pycharm": {
          "metadata": false,
          "name": "#%%\n"
        }
      }
    },
    {
      "cell_type": "markdown",
      "source": "the second condition is never checked (like in R)\n",
      "metadata": {
        "pycharm": {
          "metadata": false
        }
      }
    },
    {
      "cell_type": "markdown",
      "source": "_logic operators_: `and`, `or`, and `not`.",
      "metadata": {
        "pycharm": {
          "metadata": false
        }
      }
    },
    {
      "cell_type": "markdown",
      "source": "## Loops",
      "metadata": {
        "pycharm": {
          "metadata": false
        }
      }
    },
    {
      "cell_type": "code",
      "execution_count": null,
      "outputs": [],
      "source": "for x in range(0, 3):                  # R: for(x in 1:3) {\n    print (\"We\u0027re on time %d\" % (x))   #    + print(sprintf(\"We\u0027re on time %s\", x))}",
      "metadata": {
        "pycharm": {
          "metadata": false,
          "name": "#%%\n"
        }
      }
    },
    {
      "cell_type": "code",
      "execution_count": null,
      "outputs": [],
      "source": "for x in range(1, 3):\n    for y in range(1, 3):\n        print(\u0027%d * %d \u003d %d\u0027 % (x, y, x*y))",
      "metadata": {
        "pycharm": {
          "metadata": false,
          "name": "#%%\n"
        }
      }
    },
    {
      "cell_type": "code",
      "execution_count": null,
      "outputs": [],
      "source": "x \u003d 0\nwhile x\u003c3:\n    print (\"We\u0027re on time %d\" % (x))\n    x +\u003d 1",
      "metadata": {
        "pycharm": {
          "metadata": false,
          "name": "#%%    \n"
        }
      }
    },
    {
      "cell_type": "code",
      "execution_count": null,
      "outputs": [],
      "source": "for x in [1,True,\"Hello\"]:  # R: for (x in list(1,TRUE,\"Hello\")){\n    print(x)                #    + print(x)}    ",
      "metadata": {
        "pycharm": {
          "metadata": false,
          "name": "#%% \n"
        }
      }
    },
    {
      "cell_type": "code",
      "execution_count": null,
      "outputs": [],
      "source": "for x in \"Hello World\":  # R: for (x in strsplit(\"Hello World\",\"\")[[1]]){\n    print(x)             #    + print(x)}",
      "metadata": {
        "pycharm": {
          "metadata": false,
          "name": "#%% \n"
        }
      }
    },
    {
      "cell_type": "code",
      "execution_count": null,
      "outputs": [],
      "source": "list_of_lists \u003d [ [1, 2, 3], [4, 5, 6], [7, 8, 9]] \n# R: list_of_lists \u003d list(1:3,4:6,7:9)\nfor list in list_of_lists: # R: for (list in list_of_lists){\n    for x in list:         #    + for (x in list) {\n        print(x)           #    + print(x)}}",
      "metadata": {
        "pycharm": {
          "metadata": false,
          "name": "#%%\n"
        }
      }
    },
    {
      "cell_type": "markdown",
      "source": "## Break, Continue and Else Clauses on Loops",
      "metadata": {
        "pycharm": {
          "metadata": false
        }
      }
    },
    {
      "cell_type": "code",
      "execution_count": null,
      "outputs": [],
      "source": "for n in range(2, 10):\n    for x in range(2, n):\n        if n % x \u003d\u003d 0:\n            print(n, \u0027equals\u0027, x, \u0027*\u0027, n//x)\n            break\n    else:\n        # loop fell through without finding a factor\n        print(n, \u0027is a prime number\u0027)",
      "metadata": {
        "pycharm": {
          "metadata": false,
          "name": "#%%\n"
        }
      }
    },
    {
      "cell_type": "code",
      "execution_count": null,
      "outputs": [],
      "source": "for num in range(2, 10):\n    if num % 2 \u003d\u003d 0:\n        print(\"Found an even number\", num)\n        continue\n    print(\"Found an  odd number\", num)",
      "metadata": {
        "pycharm": {
          "metadata": false,
          "name": "#%%\n"
        }
      }
    },
    {
      "cell_type": "markdown",
      "source": "## pass Statements",
      "metadata": {
        "pycharm": {
          "metadata": false
        }
      }
    },
    {
      "cell_type": "code",
      "execution_count": null,
      "outputs": [],
      "source": "while True:\n    pass  # Busy-wait for keyboard interrupt (Ctrl+C)",
      "metadata": {
        "pycharm": {
          "metadata": false,
          "name": "#%% \n"
        }
      }
    },
    {
      "cell_type": "code",
      "execution_count": null,
      "outputs": [],
      "source": "class MyEmptyClass:\n    pass  # to define quickly a class to be later implemented",
      "metadata": {
        "pycharm": {
          "metadata": false,
          "name": "#%% \n"
        }
      }
    },
    {
      "cell_type": "code",
      "execution_count": null,
      "outputs": [],
      "source": "def initlog(*args):\n    pass   # Remember to implement this!",
      "metadata": {
        "pycharm": {
          "metadata": false,
          "name": "#%% \n"
        }
      }
    },
    {
      "cell_type": "markdown",
      "source": "## Functions",
      "metadata": {
        "pycharm": {
          "metadata": false
        }
      }
    },
    {
      "cell_type": "code",
      "execution_count": null,
      "outputs": [],
      "source": "def check_even(x):\n    if x % 2 \u003d\u003d 0:\n        print (x, \"is even.\")\n    else:\n        print (x, \"is odd.\")",
      "metadata": {
        "pycharm": {
          "metadata": false,
          "name": "#%%\n"
        }
      }
    },
    {
      "cell_type": "code",
      "execution_count": null,
      "outputs": [],
      "source": "check_even(10)",
      "metadata": {
        "pycharm": {
          "metadata": false,
          "name": "#%%\n"
        }
      }
    },
    {
      "cell_type": "code",
      "execution_count": null,
      "outputs": [],
      "source": "def fib(n):    # write Fibonacci series up to n\n    \"\"\"Print a Fibonacci series up to n.\"\"\"\n    a, b \u003d 0, 1\n    while a \u003c n:\n        print(a, end\u003d\u0027 \u0027)\n        a, b \u003d b, a+b\n        print()",
      "metadata": {
        "pycharm": {
          "metadata": false,
          "name": "#%% \n"
        }
      }
    },
    {
      "cell_type": "code",
      "execution_count": null,
      "outputs": [],
      "source": "help(fib)",
      "metadata": {
        "pycharm": {
          "metadata": false,
          "name": "#%%\n"
        }
      }
    },
    {
      "cell_type": "code",
      "execution_count": 13,
      "outputs": [
        {
          "name": "stdout",
          "text": [
            "0 \n1 \n1 \n2 \n3 \n5 \n8 \n"
          ],
          "output_type": "stream"
        }
      ],
      "source": "fib(13)",
      "metadata": {
        "pycharm": {
          "metadata": false,
          "name": "#%%\n"
        }
      }
    },
    {
      "cell_type": "code",
      "execution_count": 19,
      "outputs": [
        {
          "name": "stdout",
          "text": [
            "Please try again!\n",
            "Please try again!\n",
            "Please try again!\n",
            "Please try again!\n",
            "invalid user response\n"
          ],
          "output_type": "stream"
        }
      ],
      "source": "def ask_ok(prompt, retries\u003d4, reminder\u003d\u0027Please try again!\u0027):\n    while True:\n        ok \u003d input(prompt)\n        if ok in (\u0027y\u0027, \u0027ye\u0027, \u0027yes\u0027):\n            return True\n        if ok in (\u0027n\u0027, \u0027no\u0027, \u0027nop\u0027, \u0027nope\u0027):\n            return False\n        retries \u003d retries - 1\n        if retries \u003c 0:\n            # raise ValueError(\u0027invalid user response\u0027)\n            print(\u0027invalid user response\u0027)\n            break\n        print(reminder)\nask_ok(\u0027Answer yes/no?\u0027)",
      "metadata": {
        "pycharm": {
          "metadata": false,
          "name": "#%%capture\n"
        }
      }
    },
    {
      "cell_type": "markdown",
      "source": "## Lambda expressions\nLambda Expressions",
      "metadata": {
        "pycharm": {
          "metadata": false,
          "name": "#%% md\n"
        }
      }
    },
    {
      "cell_type": "code",
      "execution_count": 22,
      "outputs": [
        {
          "data": {
            "text/plain": "[(4, \u0027four\u0027), (1, \u0027one\u0027), (3, \u0027three\u0027), (2, \u0027two\u0027)]"
          },
          "metadata": {},
          "output_type": "execute_result",
          "execution_count": 22
        }
      ],
      "source": "pairs \u003d [(1, \u0027one\u0027), (2, \u0027two\u0027), (3, \u0027three\u0027), (4, \u0027four\u0027)]\npairs.sort(key\u003dlambda pair: pair[1])\npairs",
      "metadata": {
        "pycharm": {
          "metadata": false,
          "name": "#%%\n"
        }
      }
    },
    {
      "cell_type": "markdown",
      "source": "## Python Naming Conventions\n[Reference](https://visualgit.readthedocs.io/en/latest/pages/naming_convention.html)\n- General: lower case, words separated by underscore or CamelCase convention\n- Classes: UpperCaseCamelCase convention\n- Constants: fully capitalized\n- Methods: Non-public method should begin with a single underscore\n- Method First Argument: ‘self’ for Instance methods and ‘cls’ for Class methods",
      "metadata": {
        "pycharm": {
          "metadata": false
        }
      }
    }
  ],
  "metadata": {
    "kernelspec": {
      "display_name": "Python 2",
      "language": "python",
      "name": "python2"
    },
    "language_info": {
      "codemirror_mode": {
        "name": "ipython",
        "version": 2
      },
      "file_extension": ".py",
      "mimetype": "text/x-python",
      "name": "python",
      "nbconvert_exporter": "python",
      "pygments_lexer": "ipython2",
      "version": "2.7.12"
    },
    "stem_cell": {
      "cell_type": "raw",
      "source": "",
      "metadata": {
        "pycharm": {
          "metadata": false
        }
      }
    }
  },
  "nbformat": 4,
  "nbformat_minor": 2
}